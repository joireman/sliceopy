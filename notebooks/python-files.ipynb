{
 "cells": [
  {
   "cell_type": "markdown",
   "id": "967ff8d3-12cd-4969-9da1-b6105f2d6cde",
   "metadata": {},
   "source": [
    "## File Input / Output\n",
    "\n",
    "Often data or information is stored in files and you need to get that data into your program so you can work with it, which means you need a way to read the data from file into a data structure(s).  I'm going to primarily deal with text files with human readable characters, but Python can also deal with binary files.  However, for binary files you need to know alot more about the `bytes` type, encoding/decoding and Unicode, and potentially the actual structure of the data file. \n",
    "\n",
    "For now we are going to ignore those complexities.  Text files are easier to deal with as we are just starting out and the concepts you'll learn here are a good foundation for working with all types of files, text or binary."
   ]
  },
  {
   "cell_type": "code",
   "execution_count": 12,
   "id": "a05826fb-43f0-4fdc-8d69-a95c2b0f818a",
   "metadata": {},
   "outputs": [
    {
     "name": "stdout",
     "output_type": "stream",
     "text": [
      "gettysburg.txt  hamlet.txt      student.txt     test.txt\n"
     ]
    }
   ],
   "source": [
    "%ls *.txt      # NOTE: anything with a leading % (or %%) is a Jupyter command NOT Python"
   ]
  },
  {
   "cell_type": "code",
   "execution_count": 13,
   "id": "a2cec8d3-0817-469f-9723-0da66e7d4887",
   "metadata": {},
   "outputs": [
    {
     "name": "stdout",
     "output_type": "stream",
     "text": [
      "To be, or not to be, that is the question:\n",
      "Whether 'tis nobler in the mind to suffer\n",
      "the slings and arrows of outrageous fortune.\n",
      "Or to take arms against a sea of troubles\n",
      "And by opposing end them.  To die-to sleep,\n",
      "No more: and by a sleep to say we end."
     ]
    }
   ],
   "source": [
    "%cat hamlet.txt"
   ]
  },
  {
   "cell_type": "code",
   "execution_count": 14,
   "id": "7f6aa15b-1a7d-4a19-8656-4fed67168d93",
   "metadata": {},
   "outputs": [],
   "source": [
    "# First we need to open a file and assign an object to reperesent it\n",
    "# I'm going to to use fp.  Why? That's for me to know and you to find out (as the kids say)\n",
    "#\n",
    "fp = open('hamlet.txt', 'r')   # the 'r' is called the mode, and it is redundant here 'r' is the default"
   ]
  },
  {
   "cell_type": "code",
   "execution_count": 15,
   "id": "68d3ec0d-6fc2-40f0-8eb1-f21e52925d15",
   "metadata": {},
   "outputs": [
    {
     "data": {
      "text/plain": [
       "'To be, or not to be, that is the question:\\n'"
      ]
     },
     "execution_count": 15,
     "metadata": {},
     "output_type": "execute_result"
    }
   ],
   "source": [
    "# fp is an object and it has methods like readline()\n",
    "fp.readline()"
   ]
  },
  {
   "cell_type": "markdown",
   "id": "aef65499-6636-4300-9354-abea802c1da2",
   "metadata": {},
   "source": [
    "The `readline` method returns a string or `str`.  Note the `\\n` at the end of the string, this is returned by the readline mehtod and is part of the string.  When we print out the string, however, it transforms the new line character into a newline.  There are several \"ecaped\" characters like this, you'll commonly see `\\n` - newline and `\\t` - tab most often."
   ]
  },
  {
   "cell_type": "code",
   "execution_count": 16,
   "id": "8dcd6009-0b77-424d-bc28-229224d9de39",
   "metadata": {},
   "outputs": [
    {
     "data": {
      "text/plain": [
       "\"Whether 'tis nobler in the mind to suffer\\n\""
      ]
     },
     "execution_count": 16,
     "metadata": {},
     "output_type": "execute_result"
    }
   ],
   "source": [
    "fp.readline()"
   ]
  },
  {
   "cell_type": "markdown",
   "id": "84e76773-16ea-4be6-a0ba-9bf03646efb2",
   "metadata": {},
   "source": [
    "The newline character may be useful to you, or not, how can you get rid of it?\n",
    "\n",
    "Well, since `readline()` returns a string, we can turn to a string method, the rather indelicately named string function `strip()`"
   ]
  },
  {
   "cell_type": "code",
   "execution_count": 17,
   "id": "59280ce0-4e0b-4b1b-ac0e-9384dee487fe",
   "metadata": {},
   "outputs": [
    {
     "data": {
      "text/plain": [
       "'the slings and arrows of outrageous fortune.\\n'"
      ]
     },
     "execution_count": 17,
     "metadata": {},
     "output_type": "execute_result"
    }
   ],
   "source": [
    "next_line = fp.readline()\n",
    "next_line"
   ]
  },
  {
   "cell_type": "code",
   "execution_count": 18,
   "id": "18300a7c-47b5-46e6-8f0f-2e2a79a30349",
   "metadata": {},
   "outputs": [
    {
     "data": {
      "text/plain": [
       "'the slings and arrows of outrageous fortune.'"
      ]
     },
     "execution_count": 18,
     "metadata": {},
     "output_type": "execute_result"
    }
   ],
   "source": [
    "next_line.strip()"
   ]
  },
  {
   "cell_type": "markdown",
   "id": "6b85ef5f-22b2-4b49-b442-bb81a94ede41",
   "metadata": {},
   "source": [
    "Now we've ben reading line by line and this is a very prepetitions operations, so it shouldn't be too much of a surprise to learn that **a file object is also an interable**; it can appear in a loop"
   ]
  },
  {
   "cell_type": "code",
   "execution_count": 19,
   "id": "da092c19-9ffa-4eea-a805-fed121697640",
   "metadata": {},
   "outputs": [
    {
     "name": "stdout",
     "output_type": "stream",
     "text": [
      "Or to take arms against a sea of troubles\n",
      "\n",
      "And by opposing end them.  To die-to sleep,\n",
      "\n",
      "No more: and by a sleep to say we end.\n"
     ]
    }
   ],
   "source": [
    "for line in fp:\n",
    "    print(line)"
   ]
  },
  {
   "cell_type": "markdown",
   "id": "73d4c02e-e8e7-475a-b15e-505e76841dae",
   "metadata": {},
   "source": [
    "Whoa, wait a minute, who made it all double spaced?  Well `print` did it; we get one `\\n` for every line we read and a BONUS new line added silently by the `print` funtion, but we just saw a way to fix this:"
   ]
  },
  {
   "cell_type": "code",
   "execution_count": 20,
   "id": "70dfd9a9-cb9c-4e92-b65c-0267003676a2",
   "metadata": {},
   "outputs": [],
   "source": [
    "for line in fp:\n",
    "    print(line.strip())"
   ]
  },
  {
   "cell_type": "markdown",
   "id": "c3163d26-fe9d-4896-a824-30bac1f2e5aa",
   "metadata": {},
   "source": [
    "No output, hmmm?  Why"
   ]
  },
  {
   "cell_type": "code",
   "execution_count": 22,
   "id": "ee61406b-39c9-46ee-a32f-12514d7de818",
   "metadata": {},
   "outputs": [
    {
     "name": "stdout",
     "output_type": "stream",
     "text": [
      "To be, or not to be, that is the question:\n",
      "Whether 'tis nobler in the mind to suffer\n",
      "the slings and arrows of outrageous fortune.\n",
      "Or to take arms against a sea of troubles\n",
      "And by opposing end them.  To die-to sleep,\n",
      "No more: and by a sleep to say we end.\n"
     ]
    }
   ],
   "source": [
    "# let's re-open the file\n",
    "fp = open('hamlet.txt')\n",
    "for line in fp:\n",
    "    print(line.strip())"
   ]
  },
  {
   "cell_type": "markdown",
   "id": "83cd2fee-c031-459b-abbe-a631d25c261b",
   "metadata": {},
   "source": [
    "The file above didn't return any more output because the reading was finished, we were at the end of the file.  Either we have to *rewind* to the beginning of the file (see `seek`) or we re-open the file.  It is just a good idea to make sure every file you use is `closed` after you are done with it, so you don't surprise yourself (unless you like these type of surprises).  The Pythonic way to do this is:"
   ]
  },
  {
   "cell_type": "code",
   "execution_count": 23,
   "id": "5422b7b0-2666-42a2-9761-64586a6b57b3",
   "metadata": {},
   "outputs": [
    {
     "name": "stdout",
     "output_type": "stream",
     "text": [
      "Type of lines: <class 'list'> with length: 17\n"
     ]
    }
   ],
   "source": [
    "with open('gettysburg.txt') as fp:    # this with... block is called a context manager, which closes the file\n",
    "    lines = fp.readlines()            # read all lines at once\n",
    "    print(f\"Type of lines: {type(lines)} with length: {len(lines)}\")"
   ]
  },
  {
   "cell_type": "code",
   "execution_count": 24,
   "id": "3639dc10-b6df-4761-9545-f9c3bc986af8",
   "metadata": {},
   "outputs": [
    {
     "name": "stdout",
     "output_type": "stream",
     "text": [
      "Four score and seven years ago our fathers brought forth on this continent a new nation, conceived in liberty, \n",
      "and dedicated to the proposition that all men are created equal.\n",
      "\n",
      "Now we are engaged in a great civil war, testing whether that nation, or any nation so conceived and \n",
      "so dedicated, can long endure. We are met on a great battlefield of that war. We have come to dedicate \n",
      "a portion of that field as a final resting place for those who here gave their lives that that nation \n",
      "might live. It is altogether fitting and proper that we should do this.\n",
      "\n",
      "But in a larger sense we cannot dedicate, we cannot consecrate, we cannot hallow this ground. The brave men, \n",
      "living and dead, who struggled here have consecrated it, far above our poor power to add or detract. The \n",
      "world will little note, nor long remember, what we say here, but it can never forget what they did here. \n",
      "It is for us the living, rather, to be dedicated here to the unfinished work which they who fought here \n",
      "have thus far so nobly advanced. It is rather for us to be here dedicated to the great task remaining \n",
      "before us,that from these honored dead we take increased devotion to that cause for which they gave the \n",
      "last full measure of devotion, that we here highly resolve that these dead shall not have died in vain, \n",
      "that this nation, under God, shall have a new birth of freedom, and that government of the people, by the \n",
      "people, for the people, shall not perish from the earth.\n"
     ]
    }
   ],
   "source": [
    "print(''.join(lines))"
   ]
  },
  {
   "cell_type": "markdown",
   "id": "072344d4-a2af-49ee-9559-eac833dc7c4b",
   "metadata": {},
   "source": [
    "### Steps to Read a file\n",
    "\n",
    "So to read a file you need to  \n",
    "\n",
    "1. Open thte filre and asign it to a reference, I use `fp`, you can use whatever you like\n",
    "2. Read the file in a way that makes sense to you, line by line with a for loop, or all at once (this may depend on what you want to do with the lines)"
   ]
  },
  {
   "cell_type": "markdown",
   "id": "cf24f77b-91ab-4d8b-a9ae-84294ed86f5b",
   "metadata": {},
   "source": [
    "## Reading a CSV file\n",
    "\n",
    "Often you can get data in CSV format (or TSV) which you can red nicely with Python.  There are many ways to do this so let's look at a couple, wihc get esier and easier for you as you go down the list."
   ]
  },
  {
   "cell_type": "markdown",
   "id": "09663b77-8a5d-4c9b-89ba-810e78560447",
   "metadata": {},
   "source": [
    "### Method 1 - Bare Bones Python"
   ]
  },
  {
   "cell_type": "code",
   "execution_count": 43,
   "id": "94ac991f-f12d-45e5-bca6-6a9701ee3048",
   "metadata": {},
   "outputs": [],
   "source": [
    "data_table = []\n",
    "with open(\"../data/periodic_table.csv\") as fp:\n",
    "    for line in fp:\n",
    "        data_table.append(line.split(','))"
   ]
  },
  {
   "cell_type": "code",
   "execution_count": 44,
   "id": "f1ab7035-9649-4d0d-a792-dbec926f2951",
   "metadata": {},
   "outputs": [
    {
     "name": "stdout",
     "output_type": "stream",
     "text": [
      "['AtomicNumber', 'Element', 'Symbol', 'AtomicMass', 'NumberofNeutrons', 'NumberofProtons', 'NumberofElectrons', 'Period', 'Group', 'Phase', 'Radioactive', 'Natural', 'Metal', 'Nonmetal', 'Metalloid', 'Type', 'AtomicRadius', 'Electronegativity', 'FirstIonization', 'Density', 'MeltingPoint', 'BoilingPoint', 'NumberOfIsotopes', 'Discoverer', 'Year', 'SpecificHeat', 'NumberofShells', 'NumberofValence\\n']\n",
      "\n",
      "['1', 'Hydrogen', 'H', '1.007', '0', '1', '1', '1', '1', 'gas', '', 'yes', '', 'yes', '', 'Nonmetal', '0.79', '2.2', '13.5984', '8.99E-05', '14.175', '20.28', '3', 'Cavendish', '1766', '14.304', '1', '1\\n']\n",
      "\n",
      "['2', 'Helium', 'He', '4.002', '2', '2', '2', '1', '18', 'gas', '', 'yes', '', 'yes', '', 'Noble Gas', '0.49', '', '24.5874', '1.79E-04', '', '4.22', '5', 'Janssen', '1868', '5.193', '1', '\\n']\n"
     ]
    }
   ],
   "source": [
    "print(data_table[0])\n",
    "print()\n",
    "print(data_table[1])\n",
    "print()\n",
    "print(data_table[2])"
   ]
  },
  {
   "cell_type": "markdown",
   "id": "00dbef2d-9a7f-44b9-8e9f-2112d8a2fe20",
   "metadata": {},
   "source": [
    "### Method 2 - Python Standard Library\n",
    "\n",
    "- [csv - Reading and Writing CSV Files](https://docs.python.org/3/library/csv.html)\n",
    "- [Python Module of the Week - csv](https://pymotw.com/3/csv/index.html)"
   ]
  },
  {
   "cell_type": "code",
   "execution_count": 45,
   "id": "609327ab-e200-4f0c-a072-309ba5abcf86",
   "metadata": {},
   "outputs": [],
   "source": [
    "import csv\n",
    "\n",
    "data_table = []\n",
    "with open(\"../data/periodic_table.csv\") as fp:\n",
    "    csv_reader = csv.reader(fp)\n",
    "    for row in csv_reader:\n",
    "        data_table.append(row)"
   ]
  },
  {
   "cell_type": "code",
   "execution_count": 46,
   "id": "489360cb-fc97-44bf-ad18-7723a0153c41",
   "metadata": {},
   "outputs": [
    {
     "name": "stdout",
     "output_type": "stream",
     "text": [
      "['AtomicNumber', 'Element', 'Symbol', 'AtomicMass', 'NumberofNeutrons', 'NumberofProtons', 'NumberofElectrons', 'Period', 'Group', 'Phase', 'Radioactive', 'Natural', 'Metal', 'Nonmetal', 'Metalloid', 'Type', 'AtomicRadius', 'Electronegativity', 'FirstIonization', 'Density', 'MeltingPoint', 'BoilingPoint', 'NumberOfIsotopes', 'Discoverer', 'Year', 'SpecificHeat', 'NumberofShells', 'NumberofValence']\n",
      "\n",
      "['1', 'Hydrogen', 'H', '1.007', '0', '1', '1', '1', '1', 'gas', '', 'yes', '', 'yes', '', 'Nonmetal', '0.79', '2.2', '13.5984', '8.99E-05', '14.175', '20.28', '3', 'Cavendish', '1766', '14.304', '1', '1']\n",
      "\n",
      "['2', 'Helium', 'He', '4.002', '2', '2', '2', '1', '18', 'gas', '', 'yes', '', 'yes', '', 'Noble Gas', '0.49', '', '24.5874', '1.79E-04', '', '4.22', '5', 'Janssen', '1868', '5.193', '1', '']\n"
     ]
    }
   ],
   "source": [
    "print(data_table[0])\n",
    "print()\n",
    "print(data_table[1])\n",
    "print()\n",
    "print(data_table[2])"
   ]
  },
  {
   "cell_type": "markdown",
   "id": "5dd476cf-84cf-4dda-9bda-097e170312bb",
   "metadata": {},
   "source": [
    "### Method 2++ - Python Standard Library++\n"
   ]
  },
  {
   "cell_type": "code",
   "execution_count": 47,
   "id": "e1298922-8da7-44d4-a406-5dd361787713",
   "metadata": {},
   "outputs": [],
   "source": [
    "import csv\n",
    "\n",
    "data_table = []\n",
    "with open(\"../data/periodic_table.csv\") as fp:\n",
    "    csv_reader = csv.DictReader(fp)\n",
    "    for row in csv_reader:\n",
    "        data_table.append(row)"
   ]
  },
  {
   "cell_type": "code",
   "execution_count": 48,
   "id": "2180379c-d95b-46cb-9aef-3bc01dbc7e93",
   "metadata": {},
   "outputs": [
    {
     "name": "stdout",
     "output_type": "stream",
     "text": [
      "{'AtomicNumber': '1', 'Element': 'Hydrogen', 'Symbol': 'H', 'AtomicMass': '1.007', 'NumberofNeutrons': '0', 'NumberofProtons': '1', 'NumberofElectrons': '1', 'Period': '1', 'Group': '1', 'Phase': 'gas', 'Radioactive': '', 'Natural': 'yes', 'Metal': '', 'Nonmetal': 'yes', 'Metalloid': '', 'Type': 'Nonmetal', 'AtomicRadius': '0.79', 'Electronegativity': '2.2', 'FirstIonization': '13.5984', 'Density': '8.99E-05', 'MeltingPoint': '14.175', 'BoilingPoint': '20.28', 'NumberOfIsotopes': '3', 'Discoverer': 'Cavendish', 'Year': '1766', 'SpecificHeat': '14.304', 'NumberofShells': '1', 'NumberofValence': '1'}\n",
      "\n",
      "{'AtomicNumber': '2', 'Element': 'Helium', 'Symbol': 'He', 'AtomicMass': '4.002', 'NumberofNeutrons': '2', 'NumberofProtons': '2', 'NumberofElectrons': '2', 'Period': '1', 'Group': '18', 'Phase': 'gas', 'Radioactive': '', 'Natural': 'yes', 'Metal': '', 'Nonmetal': 'yes', 'Metalloid': '', 'Type': 'Noble Gas', 'AtomicRadius': '0.49', 'Electronegativity': '', 'FirstIonization': '24.5874', 'Density': '1.79E-04', 'MeltingPoint': '', 'BoilingPoint': '4.22', 'NumberOfIsotopes': '5', 'Discoverer': 'Janssen', 'Year': '1868', 'SpecificHeat': '5.193', 'NumberofShells': '1', 'NumberofValence': ''}\n",
      "\n",
      "{'AtomicNumber': '3', 'Element': 'Lithium', 'Symbol': 'Li', 'AtomicMass': '6.941', 'NumberofNeutrons': '4', 'NumberofProtons': '3', 'NumberofElectrons': '3', 'Period': '2', 'Group': '1', 'Phase': 'solid', 'Radioactive': '', 'Natural': 'yes', 'Metal': 'yes', 'Nonmetal': '', 'Metalloid': '', 'Type': 'Alkali Metal', 'AtomicRadius': '2.1', 'Electronegativity': '0.98', 'FirstIonization': '5.3917', 'Density': '5.34E-01', 'MeltingPoint': '453.85', 'BoilingPoint': '1615', 'NumberOfIsotopes': '5', 'Discoverer': 'Arfvedson', 'Year': '1817', 'SpecificHeat': '3.582', 'NumberofShells': '2', 'NumberofValence': '1'}\n"
     ]
    }
   ],
   "source": [
    "print(data_table[0])\n",
    "print()\n",
    "print(data_table[1])\n",
    "print()\n",
    "print(data_table[2])"
   ]
  },
  {
   "cell_type": "markdown",
   "id": "847bbe92-a291-447b-909d-fd5f317c7eeb",
   "metadata": {},
   "source": [
    "## Writing to Files"
   ]
  },
  {
   "cell_type": "code",
   "execution_count": 49,
   "id": "7724fe28-e2b3-4c21-adf1-2e071d5a5ac4",
   "metadata": {},
   "outputs": [],
   "source": [
    "numbers = [2, 4, 6, 8, 10]"
   ]
  },
  {
   "cell_type": "code",
   "execution_count": 50,
   "id": "e777d4d0-7b41-4981-b2cb-980d04189a10",
   "metadata": {},
   "outputs": [],
   "source": [
    "with open('test.txt', 'w') as fp:\n",
    "    for i in numbers:\n",
    "        fp.write(f\"Number: {i} - square {i**2}\")"
   ]
  },
  {
   "cell_type": "code",
   "execution_count": 51,
   "id": "4eda5bc7-384f-4266-8c73-4a8bc847fdba",
   "metadata": {},
   "outputs": [
    {
     "name": "stdout",
     "output_type": "stream",
     "text": [
      "Number: 2 - square 4Number: 4 - square 16Number: 6 - square 36Number: 8 - square 64Number: 10 - square 100"
     ]
    }
   ],
   "source": [
    "%cat test.txt"
   ]
  },
  {
   "cell_type": "code",
   "execution_count": 52,
   "id": "1d59bc47-8169-4298-9065-99f19c107ddf",
   "metadata": {},
   "outputs": [],
   "source": [
    "with open('test.txt', 'w') as fp:\n",
    "    for i in numbers:\n",
    "        fp.write(f\"Number: {i} - square {i**2}\\n\")"
   ]
  },
  {
   "cell_type": "code",
   "execution_count": 53,
   "id": "34316dfb-3aba-417d-88e7-da1879427445",
   "metadata": {},
   "outputs": [
    {
     "name": "stdout",
     "output_type": "stream",
     "text": [
      "Number: 2 - square 4\n",
      "Number: 4 - square 16\n",
      "Number: 6 - square 36\n",
      "Number: 8 - square 64\n",
      "Number: 10 - square 100\n"
     ]
    }
   ],
   "source": [
    "%cat test.txt"
   ]
  },
  {
   "cell_type": "code",
   "execution_count": null,
   "id": "dfab6a36-dbd2-4912-bd39-bf2ea5d459c9",
   "metadata": {},
   "outputs": [],
   "source": [
    "x"
   ]
  }
 ],
 "metadata": {
  "kernelspec": {
   "display_name": "Python 3 (ipykernel)",
   "language": "python",
   "name": "python3"
  },
  "language_info": {
   "codemirror_mode": {
    "name": "ipython",
    "version": 3
   },
   "file_extension": ".py",
   "mimetype": "text/x-python",
   "name": "python",
   "nbconvert_exporter": "python",
   "pygments_lexer": "ipython3",
   "version": "3.12.10"
  }
 },
 "nbformat": 4,
 "nbformat_minor": 5
}
