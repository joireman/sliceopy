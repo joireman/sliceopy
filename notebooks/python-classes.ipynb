{
 "cells": [
  {
   "cell_type": "markdown",
   "id": "f8e7cdc1-0ce4-486c-afd7-8ede98bb26fa",
   "metadata": {},
   "source": [
    "## Object Oriented Programming\n",
    "\n",
    "We've seen that Python supports procedural programming, breaking up the code into functions, and calling them in a linear flow of control.   Python also supports a functional programming paradigm, where functions are first class objects and can take other functions as parameters.   It shouldn't be too much of a surprise that Python also supports object oriented programming as well, where we define a `class` with data/attributes and behavior/methods.  A class ia a template for `objects` which interact with each other and mimic real world constructs, a `Person`, an `Account`, etc.\n"
   ]
  },
  {
   "cell_type": "markdown",
   "id": "31cafc6e-fef6-436d-9235-e35b7a8aca2d",
   "metadata": {},
   "source": [
    "### Defining a class"
   ]
  },
  {
   "cell_type": "code",
   "execution_count": 23,
   "id": "c4468daf-b1d1-4088-974f-7624c2a9f0c9",
   "metadata": {},
   "outputs": [
    {
     "data": {
      "text/plain": [
       "['__class__',\n",
       " '__delattr__',\n",
       " '__dict__',\n",
       " '__dir__',\n",
       " '__doc__',\n",
       " '__eq__',\n",
       " '__format__',\n",
       " '__ge__',\n",
       " '__getattribute__',\n",
       " '__getstate__',\n",
       " '__gt__',\n",
       " '__hash__',\n",
       " '__init__',\n",
       " '__init_subclass__',\n",
       " '__le__',\n",
       " '__lt__',\n",
       " '__module__',\n",
       " '__ne__',\n",
       " '__new__',\n",
       " '__reduce__',\n",
       " '__reduce_ex__',\n",
       " '__repr__',\n",
       " '__setattr__',\n",
       " '__sizeof__',\n",
       " '__str__',\n",
       " '__subclasshook__',\n",
       " '__weakref__']"
      ]
     },
     "execution_count": 23,
     "metadata": {},
     "output_type": "execute_result"
    }
   ],
   "source": [
    "class Person:\n",
    "    pass\n",
    "\n",
    "person = Person()       # define an object of type Person\n",
    "dir(person)             # by default we have some methods "
   ]
  },
  {
   "cell_type": "code",
   "execution_count": 12,
   "id": "a1458d2a-3920-463a-8e96-057a3ef89882",
   "metadata": {},
   "outputs": [
    {
     "name": "stdout",
     "output_type": "stream",
     "text": [
      "<__main__.Person object at 0x7efe4e712ed0>\n"
     ]
    }
   ],
   "source": [
    "print(person)"
   ]
  },
  {
   "cell_type": "code",
   "execution_count": 13,
   "id": "8c44889c-dde0-4813-9fe6-f257d086f9ba",
   "metadata": {},
   "outputs": [],
   "source": [
    "# You can add data to an object, \n",
    "person.name = \"Barbara Gordon\"\n",
    "person.address = \"347 Endive Road\"\n",
    "person.city = \"Gotham\""
   ]
  },
  {
   "cell_type": "code",
   "execution_count": 14,
   "id": "6807ef1e-935c-49f1-93cf-09b122a84158",
   "metadata": {},
   "outputs": [
    {
     "name": "stdout",
     "output_type": "stream",
     "text": [
      "Barbara Gordon \t 347 Endive Road\n"
     ]
    }
   ],
   "source": [
    "print(f\"{person.name} \\t {person.address}\")"
   ]
  },
  {
   "cell_type": "markdown",
   "id": "f217a207-5b5c-4ca0-9225-7ad26b1b18a7",
   "metadata": {},
   "source": [
    "Adding data to an object after it is created, while allowable, isn't really the way we want to do things.  Let's add the data at the beginning, when we create the object.   To do that we need to define the `__init__` method.  "
   ]
  },
  {
   "cell_type": "code",
   "execution_count": 18,
   "id": "bf4ba432-0769-459a-bec8-31e1e6f7fa71",
   "metadata": {},
   "outputs": [],
   "source": [
    "class Person2:\n",
    "    def __init__(self, name, address, city):\n",
    "        self.name = name\n",
    "        self.address = address\n",
    "        self.city = city\n",
    "\n",
    "person2 = Person2(\"Dick Grayson\", \"897 Haley Street\", \"Bludhaven\")"
   ]
  },
  {
   "cell_type": "code",
   "execution_count": 19,
   "id": "e460d9a0-066d-41cd-bf7f-ea4d445551c5",
   "metadata": {},
   "outputs": [
    {
     "name": "stdout",
     "output_type": "stream",
     "text": [
      "Dick Grayson \t 897 Haley Street \t Bludhaven\n"
     ]
    }
   ],
   "source": [
    "print(f\"{person2.name} \\t {person2.address} \\t {person2.city}\")"
   ]
  },
  {
   "cell_type": "markdown",
   "id": "ac1f4e0a-e68a-4adc-96cc-5ab2e6fab038",
   "metadata": {},
   "source": [
    "### Data privacy (or lack thereof)\n",
    "\n",
    "If you're following along here, you'll see that there is no access, they are `publically accessible`.  This means that anyone can add or modify the content of these variables if they so choose.   If you come from a Java background, where object data is `private` (inaccessible) by default, this may cause you to scream \"NOOOOOOOO!!!\"   \n",
    "\n",
    "This is the way Python does it.  There are a few ways to approach private data but they are either just conventions or don't work completely and, quite frankly, make the code look ugly.   Python trusts the clients to do the right thing with their objects, if they mess around with the data, well then, they need to deal with the consequences.  We'll touch on a few of the ways to get closer to private variables as we go along."
   ]
  },
  {
   "cell_type": "code",
   "execution_count": 20,
   "id": "35fe5522-63cc-49d1-b412-f5113415c55d",
   "metadata": {},
   "outputs": [],
   "source": [
    "class Employee:\n",
    "    def __init__(self, name, email, title):\n",
    "        self._name = name                # a leading underscore is a convention, saying leave this alone\n",
    "        self._email = email\n",
    "        self._title = title\n",
    "\n",
    "employee = Employee(\"Alfred Pennyworth\", \"apen@wayne.com\", \"Head Butler\")"
   ]
  },
  {
   "cell_type": "code",
   "execution_count": 22,
   "id": "95911c43-1b99-4a3f-9e95-3fba8bab942d",
   "metadata": {},
   "outputs": [
    {
     "name": "stdout",
     "output_type": "stream",
     "text": [
      "Employee: Alfred Pennyworth -- Head Butler\n"
     ]
    }
   ],
   "source": [
    "print(f\"Employee: {employee._name} -- {employee._title}\")  # Notice we can still access the _ prefixed data"
   ]
  },
  {
   "cell_type": "markdown",
   "id": "2c63b2ab-2046-4b02-85e9-b37bbbd3e353",
   "metadata": {},
   "source": [
    "The `__init__` method is similar to a constructor in Java (or C++) and it \"builds\" an object of the class and provides the ability to specify initial values by passing those in as parameters.  The first parameter of the method `self` refers to the instance of the class itself and does not need to be passed by you.  `self` is a hidden parameter passed to all **instance methods** as the first argument.  If it is helpful, think of the object instance (`employee` above) as the first argument, the object iself. \n",
    "\n",
    "The `__init__` method has been referred to by some different general names, *special* methods, *magic* methods, but the Python community seems to have adopted the name **dunder** method for these due to the double underscores around the name `init`.  There are many more dunder methods for every class and these methods, typically allow you to hook into the Python object model and make the object behave `Pythonically` if that is a word.  And, of course, who doesn't want their object to behave Pythonically ?!?!"
   ]
  },
  {
   "cell_type": "code",
   "execution_count": null,
   "id": "df960d67-ff8b-422f-b0ff-991f596d58fc",
   "metadata": {},
   "outputs": [],
   "source": []
  },
  {
   "cell_type": "code",
   "execution_count": null,
   "id": "db5560fa-4854-4a18-944f-dbc430699cc0",
   "metadata": {},
   "outputs": [],
   "source": []
  },
  {
   "cell_type": "code",
   "execution_count": null,
   "id": "fdb3ac04-609a-4c91-b882-dc669d57a6b9",
   "metadata": {},
   "outputs": [],
   "source": []
  },
  {
   "cell_type": "code",
   "execution_count": null,
   "id": "be1c755f-cb06-4451-9a28-26e7bff05386",
   "metadata": {},
   "outputs": [],
   "source": []
  },
  {
   "cell_type": "code",
   "execution_count": null,
   "id": "168e0f26-0d93-4cbf-96c2-fd6e2e34a8e2",
   "metadata": {},
   "outputs": [],
   "source": []
  },
  {
   "cell_type": "code",
   "execution_count": null,
   "id": "c4f127e6-668b-4d47-9511-b2a4d38e76e0",
   "metadata": {},
   "outputs": [],
   "source": []
  }
 ],
 "metadata": {
  "kernelspec": {
   "display_name": "Python 3 (ipykernel)",
   "language": "python",
   "name": "python3"
  },
  "language_info": {
   "codemirror_mode": {
    "name": "ipython",
    "version": 3
   },
   "file_extension": ".py",
   "mimetype": "text/x-python",
   "name": "python",
   "nbconvert_exporter": "python",
   "pygments_lexer": "ipython3",
   "version": "3.12.3"
  }
 },
 "nbformat": 4,
 "nbformat_minor": 5
}
