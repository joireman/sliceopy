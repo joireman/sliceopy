{
 "cells": [
  {
   "cell_type": "markdown",
   "id": "f8e7cdc1-0ce4-486c-afd7-8ede98bb26fa",
   "metadata": {},
   "source": [
    "## Object Oriented Programming\n",
    "\n",
    "We've seen that Python supports procedural programming, breaking up the code into functions, and calling them in a linear flow of control.   Python also supports a functional programming paradigm, where functions are first class objects and can take other functions as parameters.   It shouldn't be too much of a surprise that Python also supports object oriented programming as well, where we define a `class` with data/attributes and behavior/methods.  A class ia a template for `objects` which interact with each other and mimic real world constructs, a `Person`, an `Account`, etc.\n"
   ]
  },
  {
   "cell_type": "markdown",
   "id": "31cafc6e-fef6-436d-9235-e35b7a8aca2d",
   "metadata": {},
   "source": [
    "### Defining a class"
   ]
  },
  {
   "cell_type": "code",
   "execution_count": 23,
   "id": "c4468daf-b1d1-4088-974f-7624c2a9f0c9",
   "metadata": {},
   "outputs": [
    {
     "data": {
      "text/plain": [
       "['__class__',\n",
       " '__delattr__',\n",
       " '__dict__',\n",
       " '__dir__',\n",
       " '__doc__',\n",
       " '__eq__',\n",
       " '__format__',\n",
       " '__ge__',\n",
       " '__getattribute__',\n",
       " '__getstate__',\n",
       " '__gt__',\n",
       " '__hash__',\n",
       " '__init__',\n",
       " '__init_subclass__',\n",
       " '__le__',\n",
       " '__lt__',\n",
       " '__module__',\n",
       " '__ne__',\n",
       " '__new__',\n",
       " '__reduce__',\n",
       " '__reduce_ex__',\n",
       " '__repr__',\n",
       " '__setattr__',\n",
       " '__sizeof__',\n",
       " '__str__',\n",
       " '__subclasshook__',\n",
       " '__weakref__']"
      ]
     },
     "execution_count": 23,
     "metadata": {},
     "output_type": "execute_result"
    }
   ],
   "source": [
    "class Person:\n",
    "    pass\n",
    "\n",
    "person = Person()       # define an object of type Person\n",
    "dir(person)             # by default we have some methods "
   ]
  },
  {
   "cell_type": "code",
   "execution_count": 12,
   "id": "a1458d2a-3920-463a-8e96-057a3ef89882",
   "metadata": {},
   "outputs": [
    {
     "name": "stdout",
     "output_type": "stream",
     "text": [
      "<__main__.Person object at 0x7efe4e712ed0>\n"
     ]
    }
   ],
   "source": [
    "print(person)"
   ]
  },
  {
   "cell_type": "code",
   "execution_count": 13,
   "id": "8c44889c-dde0-4813-9fe6-f257d086f9ba",
   "metadata": {},
   "outputs": [],
   "source": [
    "# You can add data to an object, \n",
    "person.name = \"Barbara Gordon\"\n",
    "person.address = \"347 Endive Road\"\n",
    "person.city = \"Gotham\""
   ]
  },
  {
   "cell_type": "code",
   "execution_count": 14,
   "id": "6807ef1e-935c-49f1-93cf-09b122a84158",
   "metadata": {},
   "outputs": [
    {
     "name": "stdout",
     "output_type": "stream",
     "text": [
      "Barbara Gordon \t 347 Endive Road\n"
     ]
    }
   ],
   "source": [
    "print(f\"{person.name} \\t {person.address}\")"
   ]
  },
  {
   "cell_type": "markdown",
   "id": "f217a207-5b5c-4ca0-9225-7ad26b1b18a7",
   "metadata": {},
   "source": [
    "Adding data to an object after it is created, while allowable, isn't really the way we want to do things.  Let's add the data at the beginning, when we create the object.   To do that we need to define the `__init__` method.  "
   ]
  },
  {
   "cell_type": "code",
   "execution_count": 18,
   "id": "bf4ba432-0769-459a-bec8-31e1e6f7fa71",
   "metadata": {},
   "outputs": [],
   "source": [
    "class Person2:\n",
    "    def __init__(self, name: str, email: str, title: str):\n",
    "        self.name = name\n",
    "        self.address = address\n",
    "        self.city = city\n",
    "\n",
    "person2 = Person2(\"Dick Grayson\", \"897 Haley Street\", \"Bludhaven\")"
   ]
  },
  {
   "cell_type": "code",
   "execution_count": 19,
   "id": "e460d9a0-066d-41cd-bf7f-ea4d445551c5",
   "metadata": {},
   "outputs": [
    {
     "name": "stdout",
     "output_type": "stream",
     "text": [
      "Dick Grayson \t 897 Haley Street \t Bludhaven\n"
     ]
    }
   ],
   "source": [
    "print(f\"{person2.name} \\t {person2.address} \\t {person2.city}\")"
   ]
  },
  {
   "cell_type": "markdown",
   "id": "ac1f4e0a-e68a-4adc-96cc-5ab2e6fab038",
   "metadata": {},
   "source": [
    "### Data privacy (or lack thereof)\n",
    "\n",
    "If you're following along here, you'll see that there is no access, they are `publically accessible`.  This means that anyone can add or modify the content of these variables if they so choose.   If you come from a Java background, where object data is `private` (inaccessible) by default, this may cause you to scream \"NOOOOOOOO!!!\"   \n",
    "\n",
    "This is the way Python does it.  There are a few ways to approach private data but they are either just conventions or don't work completely and, quite frankly, make the code look ugly.   Python trusts the clients to do the right thing with their objects, if they mess around with the data, well then, they need to deal with the consequences.  We'll touch on a few of the ways to get closer to private variables as we go along."
   ]
  },
  {
   "cell_type": "code",
   "execution_count": 13,
   "id": "35fe5522-63cc-49d1-b412-f5113415c55d",
   "metadata": {},
   "outputs": [],
   "source": [
    "class Employee:\n",
    "    def __init__(self, name: str, email: str, title: str):\n",
    "        self._name = name                # a leading underscore is a convention, saying leave this alone\n",
    "        self._email = email\n",
    "        self._title = title\n",
    "\n",
    "employee = Employee(\"Alfred Pennyworth\", \"apen@wayne.com\", \"Head Butler\")"
   ]
  },
  {
   "cell_type": "code",
   "execution_count": 20,
   "id": "95911c43-1b99-4a3f-9e95-3fba8bab942d",
   "metadata": {},
   "outputs": [
    {
     "name": "stdout",
     "output_type": "stream",
     "text": [
      "Default str method\n",
      "    <__main__.Employee object at 0x106c49640>\n",
      "Hand coded output with object properites\n",
      "    Employee: Alfred Pennyworth -- Head Butler\n"
     ]
    }
   ],
   "source": [
    "print(\"Default str method\")\n",
    "print(f\"    {employee}\")\n",
    "print(\"Hand coded output with object properites\")\n",
    "print(f\"    Employee: {employee._name} -- {employee._title}\")  # Notice we can still access the _ prefixed data"
   ]
  },
  {
   "cell_type": "markdown",
   "id": "21cb891e-c3a1-4526-bbaf-e3c7287c7c1c",
   "metadata": {},
   "source": [
    "### Dunder Methods\n",
    "\n",
    "The `__init__` method has been referred to by some different general names, *special* methods, *magic* methods, but the Python community seems to have adopted the name **dunder** method for these due to the double underscores around the name `init`.  There are many more dunder methods for every class and these methods, typically allow you to hook into the Python object model and make the object behave `Pythonically` if that is a word.  And, of course, who doesn't want their object to behave Pythonically ?!?!"
   ]
  },
  {
   "cell_type": "code",
   "execution_count": 10,
   "id": "3a481b5f-18fb-48be-ba4b-621eea9da8dc",
   "metadata": {},
   "outputs": [],
   "source": [
    "class Employee2:\n",
    "    def __init__(self, name: str, email: str, title: str):\n",
    "        self._name = name                # a leading underscore is a convention, saying leave this alone\n",
    "        self._email = email\n",
    "        self._title = title\n",
    "\n",
    "    def __str__(self) -> str:\n",
    "        return f\"Employee: {self._name} -- {self._title}\""
   ]
  },
  {
   "cell_type": "code",
   "execution_count": 11,
   "id": "db5560fa-4854-4a18-944f-dbc430699cc0",
   "metadata": {},
   "outputs": [
    {
     "name": "stdout",
     "output_type": "stream",
     "text": [
      "Employee: Alfred Pennyworth -- Head Butler\n"
     ]
    }
   ],
   "source": [
    "employee = Employee2(\"Alfred Pennyworth\", \"apen@wayne.com\", \"Head Butler\")\n",
    "print(employee)"
   ]
  },
  {
   "cell_type": "markdown",
   "id": "6dcaee89-ef5b-42b3-a5fb-8ed6d6b3149e",
   "metadata": {},
   "source": [
    "Here dunder `str` returns a string representation of the object which is used by Python whenever the employee object *appears* in a string context, like `print`.  Previoulsy we saw some ugly string with a hex numeric value when we had the employee in a print statement.  \n",
    "\n",
    "Here we have a nice string and all it takes is implementing a simple method to hook into the Python language."
   ]
  },
  {
   "cell_type": "markdown",
   "id": "c481f3ea-d195-48fd-8b0b-74bf07291e56",
   "metadata": {},
   "source": [
    "## Timeout: Forgetting your self\n",
    "\n",
    "What if you happen to forget `self` in a method definition.  This is actually way more common an error than you might think if you are new to Python or simply returning to it after some time away, or you are in a hurry, or you haven't had a full cup of coffee yet..."
   ]
  },
  {
   "cell_type": "code",
   "execution_count": 21,
   "id": "168e0f26-0d93-4cbf-96c2-fd6e2e34a8e2",
   "metadata": {},
   "outputs": [],
   "source": [
    "class Employee3:\n",
    "    def __init__(self, name: str, email: str, title: str):\n",
    "        self._name = name                # a leading underscore is a convention, saying leave this alone\n",
    "        self._email = email\n",
    "        self._title = title\n",
    "\n",
    "    def __str__() -> str:\n",
    "        return f\"Employee: {_name} -- {_title}\""
   ]
  },
  {
   "cell_type": "code",
   "execution_count": 22,
   "id": "c4f127e6-668b-4d47-9511-b2a4d38e76e0",
   "metadata": {},
   "outputs": [
    {
     "ename": "TypeError",
     "evalue": "Employee3.__str__() takes 0 positional arguments but 1 was given",
     "output_type": "error",
     "traceback": [
      "\u001b[31m---------------------------------------------------------------------------\u001b[39m",
      "\u001b[31mTypeError\u001b[39m                                 Traceback (most recent call last)",
      "\u001b[36mCell\u001b[39m\u001b[36m \u001b[39m\u001b[32mIn[22]\u001b[39m\u001b[32m, line 2\u001b[39m\n\u001b[32m      1\u001b[39m employee = Employee3(\u001b[33m\"\u001b[39m\u001b[33mAlfred Pennyworth\u001b[39m\u001b[33m\"\u001b[39m, \u001b[33m\"\u001b[39m\u001b[33mapen@wayne.com\u001b[39m\u001b[33m\"\u001b[39m, \u001b[33m\"\u001b[39m\u001b[33mHead Butler\u001b[39m\u001b[33m\"\u001b[39m)\n\u001b[32m----> \u001b[39m\u001b[32m2\u001b[39m \u001b[38;5;28;43mprint\u001b[39;49m\u001b[43m(\u001b[49m\u001b[43memployee\u001b[49m\u001b[43m)\u001b[49m\n",
      "\u001b[31mTypeError\u001b[39m: Employee3.__str__() takes 0 positional arguments but 1 was given"
     ]
    }
   ],
   "source": [
    "employee = Employee3(\"Alfred Pennyworth\", \"apen@wayne.com\", \"Head Butler\")\n",
    "print(employee)"
   ]
  },
  {
   "cell_type": "markdown",
   "id": "c8d9f0cf-a050-4319-bca0-64f8d4a4ccbf",
   "metadata": {},
   "source": [
    "## A little privacy -- PLEASE !!\n",
    "\n",
    "Let's say you really want to make some data attribute `private` (not changeable by the user), or you want to add some additional checks around a variable.   The goal is not to allow some rouge client to seit its value to whatever they want.   We can do this with **properties**"
   ]
  },
  {
   "cell_type": "code",
   "execution_count": 32,
   "id": "54420309-5fa4-4dfc-a180-c8ad0a1dcae1",
   "metadata": {},
   "outputs": [],
   "source": [
    "from math import pi as PI\n",
    "\n",
    "class Circle:\n",
    "    def __init__(self, radius: int | float):\n",
    "        self._radius = radius\n",
    "\n",
    "    @property\n",
    "    def radius(self):\n",
    "        return self._radius\n",
    "\n",
    "    @radius.setter\n",
    "    def radius(selv, value: int | float):\n",
    "        if not isinstance(value, int | float) or value < 0:\n",
    "            raise ValueError(\"Inappropriate radius value\")\n",
    "\n",
    "    def area(self) -> float:\n",
    "        return PI * self._radius**2"
   ]
  },
  {
   "cell_type": "code",
   "execution_count": 33,
   "id": "93f4526c-6c63-4f16-8d04-6431ab84a407",
   "metadata": {},
   "outputs": [
    {
     "data": {
      "text/plain": [
       "28.274333882308138"
      ]
     },
     "execution_count": 33,
     "metadata": {},
     "output_type": "execute_result"
    }
   ],
   "source": [
    "c1 = Circle(3)\n",
    "c1.area()"
   ]
  },
  {
   "cell_type": "code",
   "execution_count": 34,
   "id": "c7ec29e4-847f-47e9-980c-f090818e71c3",
   "metadata": {},
   "outputs": [
    {
     "data": {
      "text/plain": [
       "3"
      ]
     },
     "execution_count": 34,
     "metadata": {},
     "output_type": "execute_result"
    }
   ],
   "source": [
    "c1.radius"
   ]
  },
  {
   "cell_type": "code",
   "execution_count": 35,
   "id": "ff928a55-a60a-47b1-88d1-d29015e2d28e",
   "metadata": {},
   "outputs": [
    {
     "ename": "ValueError",
     "evalue": "Inappropriate radius value",
     "output_type": "error",
     "traceback": [
      "\u001b[31m---------------------------------------------------------------------------\u001b[39m",
      "\u001b[31mValueError\u001b[39m                                Traceback (most recent call last)",
      "\u001b[36mCell\u001b[39m\u001b[36m \u001b[39m\u001b[32mIn[35]\u001b[39m\u001b[32m, line 1\u001b[39m\n\u001b[32m----> \u001b[39m\u001b[32m1\u001b[39m \u001b[43mc1\u001b[49m\u001b[43m.\u001b[49m\u001b[43mradius\u001b[49m = -\u001b[32m1\u001b[39m\n",
      "\u001b[36mCell\u001b[39m\u001b[36m \u001b[39m\u001b[32mIn[32]\u001b[39m\u001b[32m, line 14\u001b[39m, in \u001b[36mCircle.radius\u001b[39m\u001b[34m(selv, value)\u001b[39m\n\u001b[32m     11\u001b[39m \u001b[38;5;129m@radius\u001b[39m.setter\n\u001b[32m     12\u001b[39m \u001b[38;5;28;01mdef\u001b[39;00m\u001b[38;5;250m \u001b[39m\u001b[34mradius\u001b[39m(selv, value: \u001b[38;5;28mint\u001b[39m | \u001b[38;5;28mfloat\u001b[39m):\n\u001b[32m     13\u001b[39m     \u001b[38;5;28;01mif\u001b[39;00m \u001b[38;5;129;01mnot\u001b[39;00m \u001b[38;5;28misinstance\u001b[39m(value, \u001b[38;5;28mint\u001b[39m | \u001b[38;5;28mfloat\u001b[39m) \u001b[38;5;129;01mor\u001b[39;00m value < \u001b[32m0\u001b[39m:\n\u001b[32m---> \u001b[39m\u001b[32m14\u001b[39m         \u001b[38;5;28;01mraise\u001b[39;00m \u001b[38;5;167;01mValueError\u001b[39;00m(\u001b[33m\"\u001b[39m\u001b[33mInappropriate radius value\u001b[39m\u001b[33m\"\u001b[39m)\n",
      "\u001b[31mValueError\u001b[39m: Inappropriate radius value"
     ]
    }
   ],
   "source": [
    "c1.radius = -1"
   ]
  },
  {
   "cell_type": "code",
   "execution_count": 36,
   "id": "99769a93-1823-4062-b437-22535e1c1dff",
   "metadata": {},
   "outputs": [
    {
     "ename": "ValueError",
     "evalue": "Inappropriate radius value",
     "output_type": "error",
     "traceback": [
      "\u001b[31m---------------------------------------------------------------------------\u001b[39m",
      "\u001b[31mValueError\u001b[39m                                Traceback (most recent call last)",
      "\u001b[36mCell\u001b[39m\u001b[36m \u001b[39m\u001b[32mIn[36]\u001b[39m\u001b[32m, line 1\u001b[39m\n\u001b[32m----> \u001b[39m\u001b[32m1\u001b[39m \u001b[43mc1\u001b[49m\u001b[43m.\u001b[49m\u001b[43mradius\u001b[49m = \u001b[33m\"\u001b[39m\u001b[33m4\u001b[39m\u001b[33m\"\u001b[39m\n",
      "\u001b[36mCell\u001b[39m\u001b[36m \u001b[39m\u001b[32mIn[32]\u001b[39m\u001b[32m, line 14\u001b[39m, in \u001b[36mCircle.radius\u001b[39m\u001b[34m(selv, value)\u001b[39m\n\u001b[32m     11\u001b[39m \u001b[38;5;129m@radius\u001b[39m.setter\n\u001b[32m     12\u001b[39m \u001b[38;5;28;01mdef\u001b[39;00m\u001b[38;5;250m \u001b[39m\u001b[34mradius\u001b[39m(selv, value: \u001b[38;5;28mint\u001b[39m | \u001b[38;5;28mfloat\u001b[39m):\n\u001b[32m     13\u001b[39m     \u001b[38;5;28;01mif\u001b[39;00m \u001b[38;5;129;01mnot\u001b[39;00m \u001b[38;5;28misinstance\u001b[39m(value, \u001b[38;5;28mint\u001b[39m | \u001b[38;5;28mfloat\u001b[39m) \u001b[38;5;129;01mor\u001b[39;00m value < \u001b[32m0\u001b[39m:\n\u001b[32m---> \u001b[39m\u001b[32m14\u001b[39m         \u001b[38;5;28;01mraise\u001b[39;00m \u001b[38;5;167;01mValueError\u001b[39;00m(\u001b[33m\"\u001b[39m\u001b[33mInappropriate radius value\u001b[39m\u001b[33m\"\u001b[39m)\n",
      "\u001b[31mValueError\u001b[39m: Inappropriate radius value"
     ]
    }
   ],
   "source": [
    "c1.radius = \"4\"\n"
   ]
  },
  {
   "cell_type": "markdown",
   "id": "9e4acc7e-4af1-4bab-b0ca-7a7832838fdb",
   "metadata": {},
   "source": [
    "## Instance vs Class Data\n",
    "\n",
    "An object is an instance of a class and typicallly each instance has a unique set of attributes, different employees have different names, etc.  This is called instance data and instance methods utilize this data generally.   However, you can have data that is tied to the class itself and methods that work on the class.\n"
   ]
  },
  {
   "cell_type": "code",
   "execution_count": 39,
   "id": "0cbb2125-60b4-4bb0-a8d8-92a288c61b74",
   "metadata": {},
   "outputs": [],
   "source": [
    "class FancyThread:\n",
    "    num_threads = 0\n",
    "    \n",
    "    def __init__(self, name: str):\n",
    "        self._name = name\n",
    "        FancyThread.num_threads += 1\n",
    "        "
   ]
  },
  {
   "cell_type": "code",
   "execution_count": 41,
   "id": "b4429fcd-555f-4dbc-8f13-8ca7c59d5b5a",
   "metadata": {},
   "outputs": [],
   "source": [
    "t1 = FancyThread(\"Thread 1\")"
   ]
  },
  {
   "cell_type": "code",
   "execution_count": 42,
   "id": "85399d57-ffe1-46d0-9ecd-b74fb5b17062",
   "metadata": {},
   "outputs": [
    {
     "data": {
      "text/plain": [
       "'Thread 1'"
      ]
     },
     "execution_count": 42,
     "metadata": {},
     "output_type": "execute_result"
    }
   ],
   "source": [
    "t1._name"
   ]
  },
  {
   "cell_type": "code",
   "execution_count": 43,
   "id": "f19fac9b-ab4b-4c77-8877-501e015ac407",
   "metadata": {},
   "outputs": [
    {
     "data": {
      "text/plain": [
       "1"
      ]
     },
     "execution_count": 43,
     "metadata": {},
     "output_type": "execute_result"
    }
   ],
   "source": [
    "t1.num_threads"
   ]
  },
  {
   "cell_type": "code",
   "execution_count": 44,
   "id": "ccb7fe83-dd2c-4f9c-a66c-a0b4767990c3",
   "metadata": {},
   "outputs": [],
   "source": [
    "t2 = FancyThread(\"Thread 2\")"
   ]
  },
  {
   "cell_type": "code",
   "execution_count": 45,
   "id": "00a862ae-c770-4d96-af5e-3ba296406476",
   "metadata": {},
   "outputs": [
    {
     "data": {
      "text/plain": [
       "'Thread 2'"
      ]
     },
     "execution_count": 45,
     "metadata": {},
     "output_type": "execute_result"
    }
   ],
   "source": [
    "t2._name"
   ]
  },
  {
   "cell_type": "code",
   "execution_count": 46,
   "id": "19ceb24e-9c0f-4dbd-b64c-5cdddb7b8daf",
   "metadata": {},
   "outputs": [
    {
     "data": {
      "text/plain": [
       "(2, 2)"
      ]
     },
     "execution_count": 46,
     "metadata": {},
     "output_type": "execute_result"
    }
   ],
   "source": [
    "t2.num_threads, t1.num_threads"
   ]
  },
  {
   "cell_type": "markdown",
   "id": "7de660b6-b08e-44e2-b813-6bc42ee9f0e6",
   "metadata": {},
   "source": [
    "### Class Methods\n",
    "\n",
    "A different type of method that can be called on the class itself, not an instnace of the class.  Why might yo use this?  Maybe to provide an alternative way to build an instance\n"
   ]
  },
  {
   "cell_type": "code",
   "execution_count": 1,
   "id": "938c7fa1-c1f3-40af-a40a-afe7af8a31c9",
   "metadata": {},
   "outputs": [],
   "source": [
    "class StudentData:\n",
    "    def __init__(self, name: str, age: int, interest: str):\n",
    "        self.name = name\n",
    "        self.age = age\n",
    "        self.interest = interest\n",
    "\n",
    "    def __str__(self):\n",
    "        return f\"{self.name} ({self.age}): {self.interest}\""
   ]
  },
  {
   "cell_type": "code",
   "execution_count": 2,
   "id": "b093ea8f-aa10-4b40-aea0-f6726d86388e",
   "metadata": {},
   "outputs": [
    {
     "name": "stdout",
     "output_type": "stream",
     "text": [
      "W. E. B. Dubois (21): Philosophy\n"
     ]
    }
   ],
   "source": [
    "s1 = StudentData(\"W. E. B. Dubois\", 21, \"Philosophy\")\n",
    "print(s1)"
   ]
  },
  {
   "cell_type": "code",
   "execution_count": 8,
   "id": "148c1171-312c-4e44-93c6-9aff53b05195",
   "metadata": {},
   "outputs": [],
   "source": [
    "class StudentData2:\n",
    "    def __init__(self, name: str, age: int, interest: str):\n",
    "        self.name = name\n",
    "        self.age = age\n",
    "        self.interest = interest\n",
    "\n",
    "    def __str__(self):\n",
    "        return f\"{self.name} ({self.age}): {self.interest}\"\n",
    "\n",
    "    @classmethod\n",
    "    def from_file(cls, filename: str):\n",
    "        with open(filename) as fp:\n",
    "            name = fp.readline().strip()\n",
    "            age = fp.readline().strip()\n",
    "            interest = fp.readline().strip()\n",
    "        return cls(name, age, interest)\n",
    "        "
   ]
  },
  {
   "cell_type": "code",
   "execution_count": 9,
   "id": "1cc354f3-2371-4125-9c04-ab40975dd9f8",
   "metadata": {},
   "outputs": [
    {
     "name": "stdout",
     "output_type": "stream",
     "text": [
      "Alice Flin\n",
      "17\n",
      "Math"
     ]
    }
   ],
   "source": [
    "%cat student.txt"
   ]
  },
  {
   "cell_type": "code",
   "execution_count": 11,
   "id": "0c76099c-7e48-42f0-823c-e2e8b5c35e40",
   "metadata": {},
   "outputs": [
    {
     "name": "stdout",
     "output_type": "stream",
     "text": [
      "Alice Flin (17): Math\n"
     ]
    }
   ],
   "source": [
    "s2 = StudentData2.from_file(\"student.txt\")\n",
    "print(s2)"
   ]
  },
  {
   "cell_type": "markdown",
   "id": "08892b0d-2125-43a9-b5ac-f2ac1a7e6b4e",
   "metadata": {},
   "source": [
    "### Inheritance"
   ]
  },
  {
   "cell_type": "code",
   "execution_count": 12,
   "id": "80f9eb00-61c9-456b-be6e-c662aff5c53c",
   "metadata": {},
   "outputs": [],
   "source": [
    "class Pet:\n",
    "    def __init__(self, name: str, age: int):\n",
    "        self._name = name\n",
    "        self._age = age\n",
    "\n",
    "    def __str__(self):\n",
    "        return f\"Hi my name is {self._name}, I'm {self._age} years old\"\n",
    "\n",
    "    def speak(self):\n",
    "        return \"Pet Sound\""
   ]
  },
  {
   "cell_type": "code",
   "execution_count": 15,
   "id": "351f3281-8b89-46f3-83a4-ff03d0fffdfa",
   "metadata": {},
   "outputs": [],
   "source": [
    "class Cat(Pet):\n",
    "    def speak(self):\n",
    "        return \"Meow! Meow!\"\n",
    "\n",
    "class Dog(Pet):\n",
    "    def speak(self):\n",
    "        return \"WOOF! WOOF!\""
   ]
  },
  {
   "cell_type": "code",
   "execution_count": 17,
   "id": "849eea20-93ab-4231-8f04-55636d1c3092",
   "metadata": {},
   "outputs": [],
   "source": [
    "c = Cat(\"Booties\", 9)\n",
    "d = Dog(\"Spear\", 2)\n",
    "h = Pet(\"Nutmeg the Hamster\", 4)"
   ]
  },
  {
   "cell_type": "code",
   "execution_count": 18,
   "id": "60481c19-6868-4495-884c-fb9cc45ff2af",
   "metadata": {},
   "outputs": [
    {
     "name": "stdout",
     "output_type": "stream",
     "text": [
      "Hi my name is Booties, I'm 9 years old\n"
     ]
    }
   ],
   "source": [
    "print(c)"
   ]
  },
  {
   "cell_type": "code",
   "execution_count": 19,
   "id": "a70902bc-dc6a-4d8f-a0a0-73bcc513ee45",
   "metadata": {},
   "outputs": [
    {
     "name": "stdout",
     "output_type": "stream",
     "text": [
      "Hi my name is Spear, I'm 2 years old\n"
     ]
    }
   ],
   "source": [
    "print(d)"
   ]
  },
  {
   "cell_type": "code",
   "execution_count": 20,
   "id": "40a46b4b-d548-4116-b6dd-38d96ce53cce",
   "metadata": {},
   "outputs": [
    {
     "data": {
      "text/plain": [
       "'WOOF! WOOF!'"
      ]
     },
     "execution_count": 20,
     "metadata": {},
     "output_type": "execute_result"
    }
   ],
   "source": [
    "d.speak()"
   ]
  },
  {
   "cell_type": "code",
   "execution_count": 21,
   "id": "4471f936-c986-4f9f-b72c-2bc826a96e40",
   "metadata": {},
   "outputs": [
    {
     "data": {
      "text/plain": [
       "'Meow! Meow!'"
      ]
     },
     "execution_count": 21,
     "metadata": {},
     "output_type": "execute_result"
    }
   ],
   "source": [
    "c.speak()"
   ]
  },
  {
   "cell_type": "code",
   "execution_count": 22,
   "id": "4d99ad43-04bc-4c8f-8df8-5d7de9dd51ec",
   "metadata": {},
   "outputs": [
    {
     "data": {
      "text/plain": [
       "'Pet Sound'"
      ]
     },
     "execution_count": 22,
     "metadata": {},
     "output_type": "execute_result"
    }
   ],
   "source": [
    "h.speak()"
   ]
  },
  {
   "cell_type": "markdown",
   "id": "68f3fded-4fc1-4ea8-953c-048ba38dce44",
   "metadata": {},
   "source": [
    "### Dataclass\n",
    "\n",
    "A relatively new feature in Python is the `dataclass` which is super useful and looks something like this:"
   ]
  },
  {
   "cell_type": "code",
   "execution_count": 26,
   "id": "83641fa9-755a-49de-b1aa-38f63ab14f80",
   "metadata": {},
   "outputs": [],
   "source": [
    "from dataclasses import dataclass\n",
    "\n",
    "@dataclass\n",
    "class Employee:\n",
    "    name: str\n",
    "    email: str\n",
    "    title: str"
   ]
  },
  {
   "cell_type": "code",
   "execution_count": 27,
   "id": "2fb69aa4-17c0-499e-ab92-5e2a071fde8f",
   "metadata": {},
   "outputs": [],
   "source": [
    "employee = Employee(\"Alfred Pennyworth\", \"apen@wayne.com\", \"Head Butler\")"
   ]
  },
  {
   "cell_type": "code",
   "execution_count": 28,
   "id": "fa8d8f0b-f158-4d48-9971-5c6a1439751c",
   "metadata": {},
   "outputs": [
    {
     "name": "stdout",
     "output_type": "stream",
     "text": [
      "Employee(name='Alfred Pennyworth', email='apen@wayne.com', title='Head Butler')\n"
     ]
    }
   ],
   "source": [
    "print(employee)"
   ]
  },
  {
   "cell_type": "code",
   "execution_count": 29,
   "id": "53219be7-1787-42ac-b81b-7ed6afdaa0fb",
   "metadata": {},
   "outputs": [],
   "source": [
    "employee2 = Employee(\"Clark Kent\", \"kent@dailyplanet.com\", \"Reporter\")"
   ]
  },
  {
   "cell_type": "code",
   "execution_count": 30,
   "id": "04d51d81-00f5-47a7-a9b9-a18a5be99272",
   "metadata": {},
   "outputs": [
    {
     "data": {
      "text/plain": [
       "False"
      ]
     },
     "execution_count": 30,
     "metadata": {},
     "output_type": "execute_result"
    }
   ],
   "source": [
    "employee2 == employee"
   ]
  },
  {
   "cell_type": "code",
   "execution_count": 31,
   "id": "569728d9-c066-40ce-aa8d-35b6fef6dd0d",
   "metadata": {},
   "outputs": [],
   "source": [
    "employee3 = Employee(\"Alfred Pennyworth\", \"apen@wayne.com\", \"Head Butler\")"
   ]
  },
  {
   "cell_type": "code",
   "execution_count": 32,
   "id": "abbe1f6f-4c11-41e9-8db8-217e32caa0ec",
   "metadata": {},
   "outputs": [
    {
     "data": {
      "text/plain": [
       "True"
      ]
     },
     "execution_count": 32,
     "metadata": {},
     "output_type": "execute_result"
    }
   ],
   "source": [
    "employee3 == employee"
   ]
  },
  {
   "cell_type": "code",
   "execution_count": null,
   "id": "4bacbe38-bd1c-463b-8a19-ee8decb28eac",
   "metadata": {},
   "outputs": [],
   "source": []
  }
 ],
 "metadata": {
  "kernelspec": {
   "display_name": "Python 3 (ipykernel)",
   "language": "python",
   "name": "python3"
  },
  "language_info": {
   "codemirror_mode": {
    "name": "ipython",
    "version": 3
   },
   "file_extension": ".py",
   "mimetype": "text/x-python",
   "name": "python",
   "nbconvert_exporter": "python",
   "pygments_lexer": "ipython3",
   "version": "3.12.10"
  }
 },
 "nbformat": 4,
 "nbformat_minor": 5
}
