{
 "cells": [
  {
   "cell_type": "markdown",
   "id": "1727827f-72f0-4f70-aaa8-1dc9342606ac",
   "metadata": {},
   "source": [
    "## Functions"
   ]
  },
  {
   "cell_type": "markdown",
   "id": "37206a08-dbeb-419b-a8c7-e388c139b6cd",
   "metadata": {},
   "source": [
    "     "
   ]
  },
  {
   "cell_type": "markdown",
   "id": "729eb372-001c-4822-8317-b176893eb23a",
   "metadata": {},
   "source": [
    "The ability to define functions are an original superpower of programming languages.  They enable you to define a reusable set of code and call it from \"anywhere\".  You don't need to repeat yourself, by writing the same code over and over again, you solve the problem once, code it up and use it in multiple places.  It also helps you organize and rationalize your code into modules or groups of functionality and think at a higher level."
   ]
  },
  {
   "cell_type": "code",
   "execution_count": 1,
   "id": "acfbc88c-b344-47d3-b509-babf81e0aa9e",
   "metadata": {},
   "outputs": [],
   "source": [
    "def greeting():                             # The signature note final :\n",
    "    print(\"Greeting and Saltations!!\")       # Indented statement, defines scope"
   ]
  },
  {
   "cell_type": "code",
   "execution_count": 2,
   "id": "caecc089-8d2d-49f7-aa36-13b9b6bc05da",
   "metadata": {},
   "outputs": [
    {
     "data": {
      "text/plain": [
       "<function __main__.greeting()>"
      ]
     },
     "execution_count": 2,
     "metadata": {},
     "output_type": "execute_result"
    }
   ],
   "source": [
    "greeting             # the function object itself"
   ]
  },
  {
   "cell_type": "code",
   "execution_count": 3,
   "id": "1a3dac66-d0ce-40b5-ab30-1c8138fa1051",
   "metadata": {},
   "outputs": [
    {
     "name": "stdout",
     "output_type": "stream",
     "text": [
      "Greeting and Saltations!!\n"
     ]
    }
   ],
   "source": [
    "greeting()           # call with parentheses"
   ]
  },
  {
   "cell_type": "code",
   "execution_count": 4,
   "id": "95a079a6-4572-40b5-8dab-0eee7570320e",
   "metadata": {},
   "outputs": [],
   "source": [
    "# Let's make it more personal, add a parameter\n",
    "def greeting(name):\n",
    "     print(f\"Greeting and Salutations {name}!!\") "
   ]
  },
  {
   "cell_type": "code",
   "execution_count": 5,
   "id": "bf11df00-7fc5-4cf3-b1b1-33f65b30e838",
   "metadata": {},
   "outputs": [
    {
     "name": "stdout",
     "output_type": "stream",
     "text": [
      "Greeting and Salutations Elmo!!\n",
      "Greeting and Salutations 3.141569!!\n"
     ]
    }
   ],
   "source": [
    "greeting(\"Elmo\")\n",
    "greeting(3.141569)         # HMMMMM, type doesn't really matter for parameter"
   ]
  },
  {
   "cell_type": "code",
   "execution_count": 6,
   "id": "bd525cde-929a-4c6c-8f4d-95e1e316f295",
   "metadata": {},
   "outputs": [],
   "source": [
    "def greeting(name: str):\n",
    "     print(f\"Greeting and Salutations {name}!!\") "
   ]
  },
  {
   "cell_type": "code",
   "execution_count": 7,
   "id": "45191309-25b1-42d6-8324-3f143282f4ac",
   "metadata": {},
   "outputs": [
    {
     "name": "stdout",
     "output_type": "stream",
     "text": [
      "Greeting and Salutations Fozzie!!\n",
      "Greeting and Salutations 2.718288!!\n"
     ]
    }
   ],
   "source": [
    "greeting(\"Fozzie\")\n",
    "greeting(2.718288)"
   ]
  },
  {
   "cell_type": "markdown",
   "id": "1330345e-04b2-4f90-869e-4b245e119d3f",
   "metadata": {},
   "source": [
    "We can specify the type for the parameter but the core of Python doesn't do much with this information.  It is, however, very useful to add for different editors (PyCharm, Visual Studio Code), they \n",
    "- Warn you about improper calls with the wrong types\n",
    "- Provide default signature pop ups or suggestions for variables to  use\n",
    "\n",
    "Some third party libraries (`pydantic` - stay tuned) use this information for very practical purposes of data validation"
   ]
  },
  {
   "cell_type": "markdown",
   "id": "bc477ea6-3931-4b1e-8fa9-01cefd68ef68",
   "metadata": {},
   "source": [
    "### Returning values\n",
    "\n",
    "The previous function just did some work, but you are probably more familiar with functions that return some result.  You call a `sqrt` (square root) function with an argument 9 and you expect to get 3, or if you don't get 3 you might be suspicious of the funciton.  How do we return things in Python"
   ]
  },
  {
   "cell_type": "code",
   "execution_count": 8,
   "id": "5416254d-41d9-48ae-8e54-61923d9e193b",
   "metadata": {},
   "outputs": [],
   "source": [
    "def magic_ball(question: str) -> str:\n",
    "    import random\n",
    "    options = [\n",
    "        \"It is certain\", \"Reply hazy, try again\", \"Don’t count on it\",\n",
    "        \"It is decidedly so\", \"Ask again later\", \"My reply is no\",\n",
    "        \"Without a doubt\", \"Better not tell you now\", \"My sources say no\",\n",
    "        \"Yes definitely\", \"Cannot predict now\", \"Outlook not so good\",\n",
    "        \"You may rely on it\", \"Concentrate and ask again\", \"Very doubtful\",\n",
    "        \"As I see it, yes\", \"Most likely\", \"Outlook good\", \"Yes\",\n",
    "        \"Signs point to yes\"\n",
    "    ]\n",
    "    return random.choice(options)              # the function value to return"
   ]
  },
  {
   "cell_type": "code",
   "execution_count": 9,
   "id": "e20f5634-a189-4d59-8aa7-6bdb0607520b",
   "metadata": {},
   "outputs": [
    {
     "data": {
      "text/plain": [
       "'You may rely on it'"
      ]
     },
     "execution_count": 9,
     "metadata": {},
     "output_type": "execute_result"
    }
   ],
   "source": [
    "magic_ball(\"Will I win the lottery?\")"
   ]
  },
  {
   "cell_type": "code",
   "execution_count": 10,
   "id": "bb0e1718-9293-4164-bb83-0ab4f01bcf28",
   "metadata": {},
   "outputs": [
    {
     "name": "stdout",
     "output_type": "stream",
     "text": [
      "Signs point to yes\n"
     ]
    }
   ],
   "source": [
    "response = magic_ball(\"Will Chelsea win the Premier League?\")\n",
    "print(response)"
   ]
  },
  {
   "cell_type": "markdown",
   "id": "bde4c32e-024b-4e99-be0d-d6e16542321a",
   "metadata": {},
   "source": [
    "What does a function return if there is no `return` value?"
   ]
  },
  {
   "cell_type": "code",
   "execution_count": 11,
   "id": "5bb3b515-9999-447b-986d-5701f46409e3",
   "metadata": {},
   "outputs": [
    {
     "name": "stdout",
     "output_type": "stream",
     "text": [
      "Greeting and Salutations Paul!!\n"
     ]
    }
   ],
   "source": [
    "my_greeting = greeting(\"Paul\")"
   ]
  },
  {
   "cell_type": "code",
   "execution_count": 12,
   "id": "17176c27-1ca9-422d-9c5a-81deca22c7d0",
   "metadata": {},
   "outputs": [
    {
     "name": "stdout",
     "output_type": "stream",
     "text": [
      "None\n"
     ]
    }
   ],
   "source": [
    "print(my_greeting)               #"
   ]
  },
  {
   "cell_type": "markdown",
   "id": "c6dc49de-b79e-4ee3-91ed-d859eb34725b",
   "metadata": {},
   "source": [
    "Functions with no return statement return `None` (a Python type).   There are two common times this comes up, one personal and the other a design choice for Python.\n",
    "\n",
    "1. Forgetting to return something at all, it happens, especially when you least expect it.\n",
    "2. Python returns None when modifying something in place"
   ]
  },
  {
   "cell_type": "code",
   "execution_count": 13,
   "id": "17e6af5f-197b-4ffc-89da-87d18e397bb5",
   "metadata": {},
   "outputs": [
    {
     "data": {
      "text/plain": [
       "[3, 80, 17, -3, 10]"
      ]
     },
     "execution_count": 13,
     "metadata": {},
     "output_type": "execute_result"
    }
   ],
   "source": [
    "alist = [3, 80, 17, -3, 10]\n",
    "alist"
   ]
  },
  {
   "cell_type": "code",
   "execution_count": 14,
   "id": "1f9cf398-19a8-4454-8c0a-d2e7475bdbf2",
   "metadata": {},
   "outputs": [],
   "source": [
    "sorted_list = alist.sort()"
   ]
  },
  {
   "cell_type": "code",
   "execution_count": 15,
   "id": "3d7c5d80-ad7a-417f-af80-8c693a16093d",
   "metadata": {},
   "outputs": [
    {
     "name": "stdout",
     "output_type": "stream",
     "text": [
      "sorted_list=None\n",
      "alist=[-3, 3, 10, 17, 80]\n"
     ]
    }
   ],
   "source": [
    "print(f\"{sorted_list=}\\n{alist=}\")         # A wrinkle on printing variables"
   ]
  },
  {
   "cell_type": "markdown",
   "id": "8e3319c6-6cff-4d21-a49c-c0e145bc18db",
   "metadata": {},
   "source": [
    "Python functions can return multiple values from a function too "
   ]
  },
  {
   "cell_type": "code",
   "execution_count": 16,
   "id": "472f5562-e780-49d2-bf08-aa112b935904",
   "metadata": {},
   "outputs": [],
   "source": [
    "def min_max(seq: list):\n",
    "    return min(seq), max(seq)"
   ]
  },
  {
   "cell_type": "code",
   "execution_count": 17,
   "id": "2762f7ee-aace-4a48-957d-5ea5e7ce6b03",
   "metadata": {},
   "outputs": [
    {
     "data": {
      "text/plain": [
       "(-3, 80)"
      ]
     },
     "execution_count": 17,
     "metadata": {},
     "output_type": "execute_result"
    }
   ],
   "source": [
    "min_max(alist)                 # returns a tuple of values"
   ]
  },
  {
   "cell_type": "code",
   "execution_count": 18,
   "id": "2882ff44-b8f3-4231-9b54-b71cdf336276",
   "metadata": {},
   "outputs": [
    {
     "name": "stdout",
     "output_type": "stream",
     "text": [
      "min_alist=-3\t max_alist=80\n"
     ]
    }
   ],
   "source": [
    "min_alist, max_alist = min_max(alist)          # Multiple assignment here is called tuple-unpacking\n",
    "print(f\"{min_alist=}\\t {max_alist=}\")"
   ]
  },
  {
   "cell_type": "markdown",
   "id": "f6c2c8c5-8333-4633-a6f4-35de9d497909",
   "metadata": {},
   "source": [
    "### Calling Functions\n",
    "\n",
    "Python enables a lot of flexibility when defining and calling functions.  You can define required arguments and optional arguments by providing a default value.  The arguments can be passed in the order they are defined or you can use keyword arguments to pass the arguments anyway you like.  Let's create an example function:"
   ]
  },
  {
   "cell_type": "code",
   "execution_count": 19,
   "id": "30d5b1ca-300c-4d3c-9ac5-f223e6f29a42",
   "metadata": {},
   "outputs": [],
   "source": [
    "def print_list(seq: list, sep: str =\"\\n\", nmax: int = 10, include_index: bool=False):\n",
    "    if include_index:\n",
    "        for idx, x in enumerate(seq[:nmax]):\n",
    "            print(f\"[{idx}]:  {x}\")\n",
    "    else:\n",
    "        for x in seq[:nmax]:\n",
    "            print(x, end=sep)\n",
    "        \n",
    "    if len(seq) > nmax:\n",
    "        print('\\n... list truncated for brevity ')"
   ]
  },
  {
   "cell_type": "code",
   "execution_count": 20,
   "id": "788d1569-5b89-43ed-b55a-a07c38b61290",
   "metadata": {},
   "outputs": [
    {
     "name": "stdout",
     "output_type": "stream",
     "text": [
      "-3\n",
      "3\n",
      "10\n",
      "17\n",
      "80\n"
     ]
    }
   ],
   "source": [
    "print_list(alist)"
   ]
  },
  {
   "cell_type": "code",
   "execution_count": 21,
   "id": "435e367d-9885-444e-a8c1-19c9d9cecdc3",
   "metadata": {},
   "outputs": [
    {
     "name": "stdout",
     "output_type": "stream",
     "text": [
      "-3,3,10,17,80,"
     ]
    }
   ],
   "source": [
    "print_list(alist, sep=',')"
   ]
  },
  {
   "cell_type": "code",
   "execution_count": 56,
   "id": "fb70006e-4262-4da7-a697-004664de8b1b",
   "metadata": {},
   "outputs": [
    {
     "name": "stdout",
     "output_type": "stream",
     "text": [
      "-3\t3\t10\t\n",
      "... list truncated for brevity \n"
     ]
    }
   ],
   "source": [
    "print_list(nmax=3, seq=alist, sep='\\t')       # With keywords, argument position doesn't matter."
   ]
  },
  {
   "cell_type": "code",
   "execution_count": 57,
   "id": "5585d68e-9a8b-4a06-8443-0589daf57461",
   "metadata": {},
   "outputs": [
    {
     "name": "stdout",
     "output_type": "stream",
     "text": [
      "[0]:  3\n",
      "[1]:  5\n",
      "[2]:  7\n",
      "[3]:  9\n",
      "[4]:  11\n",
      "[5]:  13\n",
      "[6]:  15\n",
      "[7]:  17\n",
      "\n",
      "... list truncated for brevity \n"
     ]
    }
   ],
   "source": [
    "blist = [2*x+3 for x in range(30)]\n",
    "print_list(blist, include_index=True, nmax=8)"
   ]
  },
  {
   "cell_type": "markdown",
   "id": "1e21c55b-646c-4c54-9ee2-7e0b1f5009a0",
   "metadata": {},
   "source": [
    "### Scope\n",
    "\n",
    "A function defines its own scope, variables inside the function are `local` to the function and cannot be seen outside the function.  If the function cannot find a variable in it's local scope, it can look outside, to the enclosing scope (it stops at the `global` scope - the highest level).  If it cannot find the variable defined, it raises a `NameError`"
   ]
  },
  {
   "cell_type": "code",
   "execution_count": 58,
   "id": "f78ddc5b-8771-4dfd-89ee-14e0bf7bbde5",
   "metadata": {},
   "outputs": [],
   "source": [
    "def quadratic():\n",
    "    import math\n",
    "    g = math.sqrt(b**2 - 4*a*c)\n",
    "    root_1 = (-b + g)/2*a\n",
    "    root_2 = (-b - g)/2*a\n",
    "    return root_1, root_2"
   ]
  },
  {
   "cell_type": "code",
   "execution_count": 59,
   "id": "a47ab5e6-93f4-45fa-b77e-add807adda6d",
   "metadata": {},
   "outputs": [
    {
     "data": {
      "text/plain": [
       "(-1.0, -2.0)"
      ]
     },
     "execution_count": 59,
     "metadata": {},
     "output_type": "execute_result"
    }
   ],
   "source": [
    "quadratic()"
   ]
  },
  {
   "cell_type": "code",
   "execution_count": 60,
   "id": "7dc0200a-f750-4917-b3ee-a3620f6c11b9",
   "metadata": {},
   "outputs": [],
   "source": [
    "a = 1\n",
    "b = 3\n",
    "c = 2"
   ]
  },
  {
   "cell_type": "code",
   "execution_count": 61,
   "id": "fa85cc88-7d0b-4a4f-9524-a69a868e3084",
   "metadata": {},
   "outputs": [
    {
     "data": {
      "text/plain": [
       "(-1.0, -2.0)"
      ]
     },
     "execution_count": 61,
     "metadata": {},
     "output_type": "execute_result"
    }
   ],
   "source": [
    "quadratic()"
   ]
  },
  {
   "cell_type": "code",
   "execution_count": 62,
   "id": "a7452d1d-be5b-4720-9488-7ee94aa0d910",
   "metadata": {},
   "outputs": [
    {
     "ename": "NameError",
     "evalue": "name 'g' is not defined",
     "output_type": "error",
     "traceback": [
      "\u001b[0;31m---------------------------------------------------------------------------\u001b[0m",
      "\u001b[0;31mNameError\u001b[0m                                 Traceback (most recent call last)",
      "Cell \u001b[0;32mIn[62], line 1\u001b[0m\n\u001b[0;32m----> 1\u001b[0m \u001b[38;5;28mprint\u001b[39m(\u001b[43mg\u001b[49m, root_1, root_2)\n",
      "\u001b[0;31mNameError\u001b[0m: name 'g' is not defined"
     ]
    }
   ],
   "source": [
    "print(g, root_1, root_2)"
   ]
  },
  {
   "cell_type": "markdown",
   "id": "79a94c05-3d54-48ac-818d-3cb1821942d9",
   "metadata": {},
   "source": [
    "This isn't a very useful function, so let's parametrize it, "
   ]
  },
  {
   "cell_type": "code",
   "execution_count": 63,
   "id": "c3d34408-68ff-4f3e-965a-fc5ff787e199",
   "metadata": {},
   "outputs": [],
   "source": [
    "def quadratic(a:float , b:float, c:float) -> float:\n",
    "    import math\n",
    "    g = math.sqrt(b**2 - 4*a*c)\n",
    "    print(g)\n",
    "    root_1 = (-b + g)/2*a\n",
    "    root_2 = (-b - g)/2*a\n",
    "    return root_1, root_2"
   ]
  },
  {
   "cell_type": "code",
   "execution_count": 64,
   "id": "1edfb698-de53-4b18-aa1b-0a822307e9af",
   "metadata": {},
   "outputs": [
    {
     "name": "stdout",
     "output_type": "stream",
     "text": [
      "1.0\n"
     ]
    },
    {
     "data": {
      "text/plain": [
       "(-1.0, -2.0)"
      ]
     },
     "execution_count": 64,
     "metadata": {},
     "output_type": "execute_result"
    }
   ],
   "source": [
    "quadratic(1, 3, 2)"
   ]
  },
  {
   "cell_type": "code",
   "execution_count": 65,
   "id": "19e2a294-ecd6-4575-bc15-13b527c1bc58",
   "metadata": {},
   "outputs": [
    {
     "ename": "ValueError",
     "evalue": "math domain error",
     "output_type": "error",
     "traceback": [
      "\u001b[0;31m---------------------------------------------------------------------------\u001b[0m",
      "\u001b[0;31mValueError\u001b[0m                                Traceback (most recent call last)",
      "Cell \u001b[0;32mIn[65], line 1\u001b[0m\n\u001b[0;32m----> 1\u001b[0m \u001b[43mquadratic\u001b[49m\u001b[43m(\u001b[49m\u001b[38;5;241;43m8\u001b[39;49m\u001b[43m,\u001b[49m\u001b[43m \u001b[49m\u001b[38;5;241;43m-\u001b[39;49m\u001b[38;5;241;43m1\u001b[39;49m\u001b[43m,\u001b[49m\u001b[43m \u001b[49m\u001b[38;5;241;43m100\u001b[39;49m\u001b[43m)\u001b[49m      \u001b[38;5;66;03m# What's wrong here?  How do we fix it\u001b[39;00m\n",
      "Cell \u001b[0;32mIn[63], line 3\u001b[0m, in \u001b[0;36mquadratic\u001b[0;34m(a, b, c)\u001b[0m\n\u001b[1;32m      1\u001b[0m \u001b[38;5;28;01mdef\u001b[39;00m \u001b[38;5;21mquadratic\u001b[39m(a:\u001b[38;5;28mfloat\u001b[39m , b:\u001b[38;5;28mfloat\u001b[39m, c:\u001b[38;5;28mfloat\u001b[39m) \u001b[38;5;241m-\u001b[39m\u001b[38;5;241m>\u001b[39m \u001b[38;5;28mfloat\u001b[39m:\n\u001b[1;32m      2\u001b[0m     \u001b[38;5;28;01mimport\u001b[39;00m \u001b[38;5;21;01mmath\u001b[39;00m\n\u001b[0;32m----> 3\u001b[0m     g \u001b[38;5;241m=\u001b[39m \u001b[43mmath\u001b[49m\u001b[38;5;241;43m.\u001b[39;49m\u001b[43msqrt\u001b[49m\u001b[43m(\u001b[49m\u001b[43mb\u001b[49m\u001b[38;5;241;43m*\u001b[39;49m\u001b[38;5;241;43m*\u001b[39;49m\u001b[38;5;241;43m2\u001b[39;49m\u001b[43m \u001b[49m\u001b[38;5;241;43m-\u001b[39;49m\u001b[43m \u001b[49m\u001b[38;5;241;43m4\u001b[39;49m\u001b[38;5;241;43m*\u001b[39;49m\u001b[43ma\u001b[49m\u001b[38;5;241;43m*\u001b[39;49m\u001b[43mc\u001b[49m\u001b[43m)\u001b[49m\n\u001b[1;32m      4\u001b[0m     \u001b[38;5;28mprint\u001b[39m(g)\n\u001b[1;32m      5\u001b[0m     root_1 \u001b[38;5;241m=\u001b[39m (\u001b[38;5;241m-\u001b[39mb \u001b[38;5;241m+\u001b[39m g)\u001b[38;5;241m/\u001b[39m\u001b[38;5;241m2\u001b[39m\u001b[38;5;241m*\u001b[39ma\n",
      "\u001b[0;31mValueError\u001b[0m: math domain error"
     ]
    }
   ],
   "source": [
    "quadratic(8, -1, 100)      # What's wrong here?  How do we fix it"
   ]
  },
  {
   "cell_type": "markdown",
   "id": "418d5e68-f697-4feb-a248-14740dde2691",
   "metadata": {},
   "source": [
    "### Functional Programming\n",
    "\n",
    "Functional programming is a whole separate field in computer science and we aren't going to dive into the details but one of the key distinctives of functional programming is that functions are `first-class` objects.  Practially this means that functions can be passed as arguments from functions and returned from functions.  In other words they are no different than any other type of variable.   While Python is not a functional language, according to Guido van Rossum (also know as \"the BDFL\"), it does support a functional approach"
   ]
  },
  {
   "cell_type": "code",
   "execution_count": 66,
   "id": "f4565553-30f4-4e03-b144-33909c80bc63",
   "metadata": {},
   "outputs": [],
   "source": [
    "def cube(x):\n",
    "    return x**3\n",
    "\n",
    "def even(x):\n",
    "    return x % 2 == 0"
   ]
  },
  {
   "cell_type": "code",
   "execution_count": 67,
   "id": "ff30ca41-7216-49ed-8b56-8837b24cc652",
   "metadata": {},
   "outputs": [
    {
     "data": {
      "text/plain": [
       "[-3, 3, 10, 17, 80]"
      ]
     },
     "execution_count": 67,
     "metadata": {},
     "output_type": "execute_result"
    }
   ],
   "source": [
    "alist"
   ]
  },
  {
   "cell_type": "code",
   "execution_count": 72,
   "id": "149002a2-0275-4f7d-b5b9-cf798997c6b9",
   "metadata": {},
   "outputs": [
    {
     "name": "stdout",
     "output_type": "stream",
     "text": [
      "10,80,"
     ]
    }
   ],
   "source": [
    "for x in filter(even, alist):        # Passing a function as an argument\n",
    "    print(x, end=',')"
   ]
  },
  {
   "cell_type": "code",
   "execution_count": 71,
   "id": "dfd65279-3dba-444f-b928-1156d4a47e6b",
   "metadata": {},
   "outputs": [
    {
     "data": {
      "text/plain": [
       "[-27, 27, 1000, 4913, 512000]"
      ]
     },
     "execution_count": 71,
     "metadata": {},
     "output_type": "execute_result"
    }
   ],
   "source": [
    "list(map(cube, alist))          # need to convert map result into a list, hence list() "
   ]
  },
  {
   "cell_type": "code",
   "execution_count": 73,
   "id": "a0465258-353e-468e-8101-dc9b67d54d2e",
   "metadata": {},
   "outputs": [
    {
     "name": "stdout",
     "output_type": "stream",
     "text": [
      "27\n",
      "39\n",
      "53\n",
      "67\n",
      "193\n"
     ]
    }
   ],
   "source": [
    "for x in map(lambda x: 2*x+33, alist):\n",
    "    print(x)"
   ]
  },
  {
   "cell_type": "markdown",
   "id": "78acb1ce-aa01-4c48-9ddb-5305630052d0",
   "metadata": {},
   "source": [
    "These examples are a little contrived and actually, `map` and `filter` aren't used as much any longer, as list comprehensions are preferred.  But it does show two things>\n",
    "\n",
    "1. Python functions can be passed as arguments to functions\n",
    "2. We can define \"anonymous\" functions at the point where we need them using `lambda`, but these need to be short."
   ]
  }
 ],
 "metadata": {
  "kernelspec": {
   "display_name": "Python 3 (ipykernel)",
   "language": "python",
   "name": "python3"
  },
  "language_info": {
   "codemirror_mode": {
    "name": "ipython",
    "version": 3
   },
   "file_extension": ".py",
   "mimetype": "text/x-python",
   "name": "python",
   "nbconvert_exporter": "python",
   "pygments_lexer": "ipython3",
   "version": "3.12.10"
  }
 },
 "nbformat": 4,
 "nbformat_minor": 5
}
