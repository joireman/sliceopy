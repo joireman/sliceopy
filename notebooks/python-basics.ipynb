{
 "cells": [
  {
   "cell_type": "markdown",
   "id": "df59c4e25415b99f",
   "metadata": {},
   "source": [
    "# Python Basics"
   ]
  },
  {
   "cell_type": "markdown",
   "id": "439c19ca411f0c44",
   "metadata": {},
   "source": [
    "## Variables and Operations\n",
    "\n",
    "Starting with some basics, we can assign a value to a variable with the assignment operator `=`.  We can assign the value of one variable to \n",
    "another too, or reassign its value.  The variable names here are just **labels** the can be reassigned to another variable with a different \n",
    "at any time, the type is dynamically assigned"
   ]
  },
  {
   "cell_type": "code",
   "execution_count": 1,
   "id": "c7b3c184de1e4207",
   "metadata": {},
   "outputs": [],
   "source": [
    "pear = 7\n",
    "peach = 2\n",
    "orange = pear       # integer type\n",
    "orange = \"Hello\"    # re-assignment to str type"
   ]
  },
  {
   "cell_type": "markdown",
   "id": "ac49a6204dcb2bca",
   "metadata": {},
   "source": [
    "Now perform some operations on some of these values just to illustrate what can be done."
   ]
  },
  {
   "cell_type": "code",
   "execution_count": 2,
   "id": "b58e346bdbed1a43",
   "metadata": {},
   "outputs": [
    {
     "name": "stdout",
     "output_type": "stream",
     "text": [
      "Addition (+)          : 9\n",
      "Subtraction (-)       : 5\n",
      "Multiplication (*)    : 14\n",
      "Division (/)          : 3.5\n",
      "Integer division (//) : 3\n",
      "Modulus (%)           : 1\n",
      "Exponentiation (**)   : 49\n"
     ]
    }
   ],
   "source": [
    "print(f\"Addition (+)          : {pear + peach}\")    #\n",
    "print(f\"Subtraction (-)       : {pear - peach}\")    # \n",
    "print(f\"Multiplication (*)    : {pear * peach}\")    # \n",
    "print(f\"Division (/)          : {pear / peach}\")    # floating point division (as expected) \n",
    "print(f\"Integer division (//) : {pear // peach}\")   # integer or truncating division\n",
    "print(f\"Modulus (%)           : {pear % peach}\")    # remainder \n",
    "print(f\"Exponentiation (**)   : {pear ** peach}\")   # raise to a power"
   ]
  },
  {
   "cell_type": "code",
   "execution_count": 3,
   "id": "11754d3b24fbdeda",
   "metadata": {
    "ExecuteTime": {
     "end_time": "2024-09-21T11:36:25.441954Z",
     "start_time": "2024-09-21T11:36:25.436644Z"
    }
   },
   "outputs": [],
   "source": [
    "count = 0\n",
    "radius = 3\n",
    "pi = 3.141592653589793\n",
    "greeting = \"Hello World!\""
   ]
  },
  {
   "cell_type": "code",
   "execution_count": 4,
   "id": "3af6feef9994a87c",
   "metadata": {
    "ExecuteTime": {
     "end_time": "2024-09-21T11:36:40.631882Z",
     "start_time": "2024-09-21T11:36:40.625418Z"
    }
   },
   "outputs": [
    {
     "name": "stdout",
     "output_type": "stream",
     "text": [
      "The area of the circle is 28.274333882308138\n",
      "The area of the circle is 28.27\n"
     ]
    }
   ],
   "source": [
    "area = pi * radius**2\n",
    "print(f'The area of the circle is {area}')        # f-strings introduced in Python 3.6\n",
    "print(f'The area of the circle is {area:.2f}')    #   formatting capabilities are useful at times     "
   ]
  },
  {
   "cell_type": "markdown",
   "id": "7cbbdbdc6b143dd5",
   "metadata": {},
   "source": [
    "This all makes sens so far but let's try a few things that might not make so much sense with operations"
   ]
  },
  {
   "cell_type": "code",
   "execution_count": 5,
   "id": "ad373c55d130c93c",
   "metadata": {
    "ExecuteTime": {
     "end_time": "2024-09-21T10:48:22.023952Z",
     "start_time": "2024-09-21T10:48:22.016514Z"
    }
   },
   "outputs": [
    {
     "data": {
      "text/plain": [
       "'Hello World!Hello World!Hello World!'"
      ]
     },
     "execution_count": 5,
     "metadata": {},
     "output_type": "execute_result"
    }
   ],
   "source": [
    "greeting*(count + 3)     # interesting"
   ]
  },
  {
   "cell_type": "code",
   "execution_count": 6,
   "id": "1bd74b630ac3bd09",
   "metadata": {
    "ExecuteTime": {
     "end_time": "2024-09-21T10:48:29.214153Z",
     "start_time": "2024-09-21T10:48:29.197785Z"
    }
   },
   "outputs": [
    {
     "ename": "TypeError",
     "evalue": "can't multiply sequence by non-int of type 'float'",
     "output_type": "error",
     "traceback": [
      "\u001b[0;31m---------------------------------------------------------------------------\u001b[0m",
      "\u001b[0;31mTypeError\u001b[0m                                 Traceback (most recent call last)",
      "Cell \u001b[0;32mIn[6], line 1\u001b[0m\n\u001b[0;32m----> 1\u001b[0m \u001b[43mgreeting\u001b[49m\u001b[43m \u001b[49m\u001b[38;5;241;43m*\u001b[39;49m\u001b[43m \u001b[49m\u001b[43mpi\u001b[49m            \u001b[38;5;66;03m# order restored \u001b[39;00m\n",
      "\u001b[0;31mTypeError\u001b[0m: can't multiply sequence by non-int of type 'float'"
     ]
    }
   ],
   "source": [
    "greeting * pi            # order restored "
   ]
  },
  {
   "cell_type": "markdown",
   "id": "4f7f6f0f9d6854de",
   "metadata": {},
   "source": [
    "All variables are objects and know their type which restricts the operations you can perform on that variable.\n",
    "Using the `type` operator you can retrieve a variable's type (mostly for debugging purposes)"
   ]
  },
  {
   "cell_type": "code",
   "execution_count": 7,
   "id": "b35868257f0bfca8",
   "metadata": {
    "ExecuteTime": {
     "end_time": "2024-09-21T10:52:58.726306Z",
     "start_time": "2024-09-21T10:52:58.719301Z"
    }
   },
   "outputs": [
    {
     "name": "stdout",
     "output_type": "stream",
     "text": [
      "The type of variable pi is:  <class 'float'>\n",
      "The type of variable greeting is:  <class 'str'>\n"
     ]
    }
   ],
   "source": [
    "print(f\"The type of variable pi is:  {type(pi)}\")\n",
    "print(f\"The type of variable greeting is:  {type(greeting)}\")"
   ]
  },
  {
   "cell_type": "markdown",
   "id": "8991b015cfffb06c",
   "metadata": {},
   "source": [
    "## Control Flow - Making Decisions\n",
    "\n",
    "Python provides a few common constructs to test a `condition` and perform selective actions based on whether the `condition` is true or false:\n",
    "```python \n",
    "if (condition): \n",
    "   # do this if condition is True \n",
    "elif (another_condition): \n",
    "   # do that if another_condition is True \n",
    "else:\n",
    "   # do the other thing if all conditions are False\n",
    "\n",
    "# \n",
    "while (condition):\n",
    "   # do this until condition is false\n",
    "```\n",
    "\n",
    "All conditions must evaluate as a boolean type or in Python `bool` which has two binary values `True` or `False` (NOTE: these are capitalized!!)  "
   ]
  },
  {
   "cell_type": "code",
   "execution_count": 8,
   "id": "b9956d01189f2c8a",
   "metadata": {
    "ExecuteTime": {
     "end_time": "2024-09-21T11:36:06.760459Z",
     "start_time": "2024-09-21T11:36:06.753767Z"
    }
   },
   "outputs": [
    {
     "name": "stdout",
     "output_type": "stream",
     "text": [
      "Orange is greater than Apple\n"
     ]
    }
   ],
   "source": [
    "apple = 5\n",
    "orange = 6\n",
    "\n",
    "if apple == orange:                              \n",
    "    print(\"Apple and Orange are equal fruits\")\n",
    "elif apple > orange: \n",
    "    print(\"Apple is greater than Orange\")\n",
    "else:\n",
    "    print(\"Orange is greater than Apple\")"
   ]
  },
  {
   "cell_type": "markdown",
   "id": "a82d571574dee8e2",
   "metadata": {},
   "source": [
    "Python provides all the common comparison operators which I'll just list here\n",
    "\n",
    "- `a == b`: is `a` equal to `b`\n",
    "- `a != b`: is `a` NOT equal to `b`\n",
    "- `a > b`: is `a` greater than `b`\n",
    "- `a < b`: is `a` less than `b`\n",
    "- `a >= b`: is `a` greater than or equal to `b`\n",
    "- `a == b`: is `a` less than or equal to `b`\n",
    " \n",
    "Notice the indentation, this is important in Python as it defines block structure.  Lines at the same indentation level execute in sequence, a new\n",
    "indentation level defines a new block, there are no block delimeters like `{ }` in C, C++ or Java.  This can often trip you up if you are just starting\n",
    "out so let's just make that error so you know what it looks like"
   ]
  },
  {
   "cell_type": "code",
   "execution_count": 9,
   "id": "b0f4b36579427a42",
   "metadata": {
    "ExecuteTime": {
     "end_time": "2024-09-21T11:36:08.852503Z",
     "start_time": "2024-09-21T11:36:08.845388Z"
    }
   },
   "outputs": [
    {
     "ename": "IndentationError",
     "evalue": "unexpected indent (1779517983.py, line 3)",
     "output_type": "error",
     "traceback": [
      "\u001b[0;36m  Cell \u001b[0;32mIn[9], line 3\u001b[0;36m\u001b[0m\n\u001b[0;31m    print(\"Wait -- WHAT ?!?!?!\")                 # Indent not right, most editors these days flag this quickly\u001b[0m\n\u001b[0m    ^\u001b[0m\n\u001b[0;31mIndentationError\u001b[0m\u001b[0;31m:\u001b[0m unexpected indent\n"
     ]
    }
   ],
   "source": [
    "if apple == orange:\n",
    "    print(\"Apple and Orange are equal fruits\")\n",
    "     print(\"Wait -- WHAT ?!?!?!\")                 # Indent not right, most editors these days flag this quickly\n",
    "    "
   ]
  },
  {
   "cell_type": "code",
   "execution_count": 10,
   "id": "132f8fdcd10ada96",
   "metadata": {
    "ExecuteTime": {
     "end_time": "2024-09-21T11:36:09.633139Z",
     "start_time": "2024-09-21T11:36:09.625980Z"
    }
   },
   "outputs": [
    {
     "name": "stdout",
     "output_type": "stream",
     "text": [
      "5, 4, 3, 2, 1, BOOM!\n"
     ]
    }
   ],
   "source": [
    "counter = 5\n",
    "while counter > 0:\n",
    "    print(f\"{counter}\", end=', ')\n",
    "    counter -= 1 \n",
    "\n",
    "print(\"BOOM!\") "
   ]
  },
  {
   "cell_type": "markdown",
   "id": "dd06fe77cb4918a2",
   "metadata": {},
   "source": [
    "## Truthiness ( the truth you know in your heart )\n",
    "\n",
    "Python implicity interprets the `boolean` truth value of varialbes according to a short set of rules.  Essentially if a variable has a value of 0 \n",
    "or the variable is \"empty\" then it is `False` otherwise it is true.  And we can use this in conditional expressions where we evaluate a boolean condition"
   ]
  },
  {
   "cell_type": "code",
   "execution_count": 11,
   "id": "67c3e6a19917526c",
   "metadata": {
    "ExecuteTime": {
     "end_time": "2024-09-21T11:36:44.982175Z",
     "start_time": "2024-09-21T11:36:44.975394Z"
    }
   },
   "outputs": [
    {
     "name": "stdout",
     "output_type": "stream",
     "text": [
      "Truth of a: False\n",
      "Truth of b: False\n",
      "Truth of greeting: True\n",
      "Truth of area: True\n"
     ]
    }
   ],
   "source": [
    "a = 0\n",
    "b = \"\"  # empty string\n",
    "\n",
    "print(f\"Truth of a: {bool(a)}\")\n",
    "print(f\"Truth of b: {bool(b)}\")\n",
    "print(f\"Truth of greeting: {bool(greeting)}\")\n",
    "print(f\"Truth of area: {bool(area)}\")"
   ]
  },
  {
   "cell_type": "markdown",
   "id": "cc2d9ec316ce3ad9",
   "metadata": {},
   "source": [
    "## Repetition - The Greatest Superpower of a Computer\n",
    "\n",
    "The single greatest advantage of a computer is the ability to perform the same thing over and over again very quickly; much more quickly \n",
    "than humans can do it.   But, as they say \"With great power, comes great responsibility\".  The computer can do things over and over\n",
    "again quickly but if the operation is wrong, you will get wrong results very quickly, sometimes with catastrophic results.  \n",
    "\n",
    "In Python, you can use the `while` construct as a looping construct as you saw previously but the most frequent and more useful tool is the `for` loop"
   ]
  },
  {
   "cell_type": "code",
   "execution_count": 12,
   "id": "7a9d1158-2af5-46a6-9ade-9be12192d649",
   "metadata": {},
   "outputs": [
    {
     "name": "stdout",
     "output_type": "stream",
     "text": [
      "[0]: 3\n",
      "[1]: 4\n",
      "[2]: 5\n",
      "[3]: 6\n",
      "[4]: 7\n"
     ]
    }
   ],
   "source": [
    "i=0\n",
    "for item in range(5):\n",
    "    print(f\"[{i}]: {item+3}\")\n",
    "    i += 1"
   ]
  },
  {
   "cell_type": "markdown",
   "id": "143f2dca-9df0-43ba-9bdb-2b68ffaaad6d",
   "metadata": {},
   "source": [
    "A `for` loop steps through a sequence (more generally an `iterable`) and feed each value into the \"loop\" variable which you can define as whatever you like.  This works for any sequence and some things that you might not imagine (yet) as sequences (lists, generators, files, ...) we'll get to all of these.\n",
    "\n",
    "We used `i` above to get the index of the value but there is a slightly easier way to do that (should you need this).  Wrap the iterable in the `enumerate` function which returns two values, the index `idx` and the `value`, which we assign to variables"
   ]
  },
  {
   "cell_type": "code",
   "execution_count": 13,
   "id": "9dc067e2-18f3-4dda-a699-7bce214db200",
   "metadata": {},
   "outputs": [
    {
     "name": "stdout",
     "output_type": "stream",
     "text": [
      "[0]: 0\n",
      "[1]: 3\n",
      "[2]: 6\n",
      "[3]: 9\n",
      "[4]: 12\n"
     ]
    }
   ],
   "source": [
    " for idx, value in enumerate(range(5)):\n",
    "    print(f\"[{idx}]: {value*3}\")"
   ]
  },
  {
   "cell_type": "code",
   "execution_count": 14,
   "id": "f92ea8c0-ee51-4dec-8824-826e9d48804b",
   "metadata": {},
   "outputs": [
    {
     "name": "stdout",
     "output_type": "stream",
     "text": [
      "Range: range(0, 5) \n",
      "type(range(5): <class 'range'>\n",
      "list(range(5)): [0, 1, 2, 3, 4]\n"
     ]
    }
   ],
   "source": [
    "# What is range(5) exactly?\n",
    "print(f\"Range: {range(5)} \\ntype(range(5): {type(range(5))}\\nlist(range(5)): {list(range(5))}\")"
   ]
  },
  {
   "cell_type": "code",
   "execution_count": 15,
   "id": "8aef66b9-b3eb-476b-973f-bd7471171b6a",
   "metadata": {},
   "outputs": [
    {
     "name": "stdout",
     "output_type": "stream",
     "text": [
      "[0]: 0\n",
      "[1]: 3\n",
      "[2]: 6\n",
      "[3]: 9\n",
      "[4]: 12\n"
     ]
    }
   ],
   "source": [
    "for idx, value in enumerate([0, 1, 2, 3, 4]):      # range(5) is essentially the same as [0, 1, 2, 3, 4]\n",
    "    print(f\"[{idx}]: {value*3}\")"
   ]
  },
  {
   "cell_type": "markdown",
   "id": "6eb08577-03fe-4b10-a7ab-cb287dc25149",
   "metadata": {},
   "source": [
    "So `range(5)` is basically the same as a list of 5 integers starting from 0.  We haven't covered lists in detail at all but the are basically ordered sequences of elements, they could be integers, or characters, or strings, or anything really, we'll get to them soon."
   ]
  },
  {
   "cell_type": "markdown",
   "id": "90db6c16-dc67-4fc1-8fb3-c60d28fe7116",
   "metadata": {},
   "source": [
    "### Iterables\n",
    "\n",
    "An *iterable* in Python is anything we can iterate over, something we can use in a `for` loop.  In other words, an iteratable is a sequence with a definite order (ie. a `list` or a string / `str`).  Technically, an iterator is something that which implements the *iterator protocol* by implementing two *dunder* methods  `__iter__()` and `__next__()`.  \n",
    "\n",
    "Lists, tuples and strings all implement this protocol \"under the hood\" or \"out of the box\" and can be iterated over using a for loop, each iteration giving the next value in the sequence.  However, you can implement your own objects which obey this protocol where it is appropriate to model an ordered sequence of elements.  These *user-defined* objects could be used within a for loop.  \n",
    "\n",
    "We are getting a little ahead of ourselves so let's look a `list`s, `tuple`s and a mapping object or associative array -- `dict`\n"
   ]
  },
  {
   "cell_type": "code",
   "execution_count": null,
   "id": "dab63d2b-2ba0-4d80-9e1e-7b38f5b5d55a",
   "metadata": {},
   "outputs": [],
   "source": []
  }
 ],
 "metadata": {
  "kernelspec": {
   "display_name": "Python 3 (ipykernel)",
   "language": "python",
   "name": "python3"
  },
  "language_info": {
   "codemirror_mode": {
    "name": "ipython",
    "version": 3
   },
   "file_extension": ".py",
   "mimetype": "text/x-python",
   "name": "python",
   "nbconvert_exporter": "python",
   "pygments_lexer": "ipython3",
   "version": "3.12.3"
  }
 },
 "nbformat": 4,
 "nbformat_minor": 5
}
