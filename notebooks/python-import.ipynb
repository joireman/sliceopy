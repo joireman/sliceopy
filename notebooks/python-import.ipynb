{
 "cells": [
  {
   "cell_type": "markdown",
   "id": "440b4a3d-076e-4051-b088-c26cac9b3534",
   "metadata": {},
   "source": [
    "# Using the Batteries - Imports\n",
    "\n",
    "Python comes with a significant standard library (similar to Java) and so it often called a language with \"batteries included\".  This library provides functionality to make your life a whole lot easier.  Here are just some of the capabilities provided in the standard library:\n",
    "\n",
    "- Text processing: strings, reguar expressions, unicode data\n",
    "- Data Typeps: arrays, collections, datetime, enum\n",
    "- File and Directory Access: pathlib, glob, filecmp, shutil\n",
    "- Data Persistence: sqlite3, pickle, shelve\n",
    "- Internet Data Handling and Cryptography: json, emai, base64, hashlib, hmac\n",
    "- File Formats: csv, tomllib, configparser\n",
    "- Operating System services: os, sys, logging, argparse\n",
    "\n",
    "This just scratches the surface of the sandard library.  Third party libraires are hosted on [PyPI](https://pypi.org/) (pie-P-I), which is where you'll find just jewels as `numpy`, `pandas`, `requests`, BeautifulSoup, `django`, `flask`. SQLAlchemy, `jupyter`, `fastapi`, `pydantic`, `pyspark`, `seaborn`, `plotly`, `matplotlib` and many, many, many more..."
   ]
  },
  {
   "cell_type": "markdown",
   "id": "df588128-0261-436e-80b2-a220732717c4",
   "metadata": {},
   "source": [
    "## Terminology\n",
    "\n",
    "Python has it's own names for a few things in the ecosystem related to imports\n",
    "\n",
    "- `module`: a single Python source file with defined classes, functions, etc.\n",
    "- `package`: a collection of Python files exposing a collection of related functionality, `math`, `csv, `json`\n",
    "\n",
    "You can import a module or a package\n",
    "\n",
    "## Resources\n",
    "\n",
    "- [Python.org Standard Library Reference](https://docs.python.org/3/library/index.html)\n",
    "- [Python 3 Module of the Week](https://pymotw.com/3/): a serices of articles written by Dog Hellmann to demonstrate how to use the modules of the Python 3 standard library.\n",
    "- [PyPI](https://pypi.org/): The Python Package Index is a respository of software for the Python programming language.\n",
    "  "
   ]
  },
  {
   "cell_type": "code",
   "execution_count": 1,
   "id": "fafa985f-1d79-4370-95ea-0863c3889002",
   "metadata": {},
   "outputs": [],
   "source": [
    "# Import a package itself, you must use the package name in dotted notation to access methods\n",
    "import math"
   ]
  },
  {
   "cell_type": "code",
   "execution_count": 2,
   "id": "195df83a-d625-472f-8152-e565db84b865",
   "metadata": {},
   "outputs": [
    {
     "name": "stdout",
     "output_type": "stream",
     "text": [
      "45 degrees = 0.78540 radians\n"
     ]
    }
   ],
   "source": [
    "x = 45\n",
    "print(f\"{x} degrees = {math.radians(x):.5f} radians\")"
   ]
  },
  {
   "cell_type": "code",
   "execution_count": 3,
   "id": "8a43ad4c-e798-41df-b2fe-ea70cd3e0400",
   "metadata": {},
   "outputs": [],
   "source": [
    "# Import a specifi symbol from the math library\n",
    "from math import radians"
   ]
  },
  {
   "cell_type": "code",
   "execution_count": 4,
   "id": "e077942d-f499-4447-a16b-ee9649b8ae19",
   "metadata": {},
   "outputs": [
    {
     "data": {
      "text/plain": [
       "0.7853981633974483"
      ]
     },
     "execution_count": 4,
     "metadata": {},
     "output_type": "execute_result"
    }
   ],
   "source": [
    "radians(x)    # no need to call math.radians(), but a potential problem with namespace pollution"
   ]
  },
  {
   "cell_type": "code",
   "execution_count": 6,
   "id": "13705a21-a249-4602-b103-c846756b6800",
   "metadata": {},
   "outputs": [
    {
     "data": {
      "text/plain": [
       "True"
      ]
     },
     "execution_count": 6,
     "metadata": {},
     "output_type": "execute_result"
    }
   ],
   "source": [
    "# You can import mulitple symbols at once\n",
    "from math import radians, pi, isclose\n",
    "\n",
    "isclose(radians(x), pi/4)    # The unit circle is GREAT!"
   ]
  },
  {
   "cell_type": "markdown",
   "id": "71091286-5037-4580-978c-3b6f23412c8e",
   "metadata": {},
   "source": [
    "## Aliases\n",
    "\n",
    "You can import a module or package and give it an alternative name for convenience"
   ]
  },
  {
   "cell_type": "code",
   "execution_count": 7,
   "id": "f6542321-f14a-48b3-b85b-d5ae6886710f",
   "metadata": {},
   "outputs": [],
   "source": [
    "import calendar as cal"
   ]
  },
  {
   "cell_type": "code",
   "execution_count": 8,
   "id": "1aa18723-3841-4938-abee-a0ac10968e60",
   "metadata": {},
   "outputs": [],
   "source": [
    "c = cal.TextCalendar(cal.SUNDAY)"
   ]
  },
  {
   "cell_type": "code",
   "execution_count": 9,
   "id": "248eb1c2-6487-4e22-af13-60ae0d39d100",
   "metadata": {},
   "outputs": [
    {
     "name": "stdout",
     "output_type": "stream",
     "text": [
      "      May 2025\n",
      "Su Mo Tu We Th Fr Sa\n",
      "             1  2  3\n",
      " 4  5  6  7  8  9 10\n",
      "11 12 13 14 15 16 17\n",
      "18 19 20 21 22 23 24\n",
      "25 26 27 28 29 30 31\n"
     ]
    }
   ],
   "source": [
    "c.prmonth(2025, 5)"
   ]
  },
  {
   "cell_type": "markdown",
   "id": "fc8a541c-5919-424e-8b83-dfb6b19346e6",
   "metadata": {},
   "source": [
    "## The BIG NO-NO - from x import *\n",
    "\n",
    "This is an anti-pattern generally frowned upon by all Python developers.  The reson is, this brings in every siymbol into the current namespace and causes problems"
   ]
  },
  {
   "cell_type": "code",
   "execution_count": 10,
   "id": "dfd1ce42-a01e-43be-96e7-381820e9d4eb",
   "metadata": {},
   "outputs": [
    {
     "data": {
      "text/plain": [
       "0.08726646259971647"
      ]
     },
     "execution_count": 10,
     "metadata": {},
     "output_type": "execute_result"
    }
   ],
   "source": [
    "from math import *\n",
    "radians(5)"
   ]
  },
  {
   "cell_type": "code",
   "execution_count": 12,
   "id": "4bb82378-2e43-4df5-9cc2-aa7e4fd66bfd",
   "metadata": {},
   "outputs": [
    {
     "data": {
      "text/plain": [
       "3.141592653589793"
      ]
     },
     "execution_count": 12,
     "metadata": {},
     "output_type": "execute_result"
    }
   ],
   "source": [
    "pi"
   ]
  },
  {
   "cell_type": "code",
   "execution_count": 13,
   "id": "4a8d06cf-5258-4947-a2d4-0aaa5bd09c27",
   "metadata": {},
   "outputs": [
    {
     "data": {
      "text/plain": [
       "4.999629720311564"
      ]
     },
     "execution_count": 13,
     "metadata": {},
     "output_type": "execute_result"
    }
   ],
   "source": [
    "degrees(0.08726)"
   ]
  },
  {
   "cell_type": "code",
   "execution_count": 14,
   "id": "10489dc9-b0b9-48b5-b5b7-6359fbfd3f2f",
   "metadata": {},
   "outputs": [],
   "source": [
    "pi=10       # Redefining PI ?!?!?!?!"
   ]
  },
  {
   "cell_type": "code",
   "execution_count": 15,
   "id": "b5e0b8e8-8064-4894-b43e-33fb75d212e5",
   "metadata": {},
   "outputs": [
    {
     "data": {
      "text/plain": [
       "20"
      ]
     },
     "execution_count": 15,
     "metadata": {},
     "output_type": "execute_result"
    }
   ],
   "source": [
    "pi*2"
   ]
  },
  {
   "cell_type": "markdown",
   "id": "1fff26e7-c608-4aad-b357-9d671badf231",
   "metadata": {},
   "source": [
    "## Import vs Executing a Module\n",
    "\n",
    "A Python file can serve as a module from which you import functions or classes (or other things), OR it can be a file you execute as a standalone set of code, OR it can be both using the `name-main` block:"
   ]
  },
  {
   "cell_type": "code",
   "execution_count": 16,
   "id": "ef79fce8-16a1-4140-a1ac-e66d39c63653",
   "metadata": {},
   "outputs": [
    {
     "name": "stdout",
     "output_type": "stream",
     "text": [
      "import math\n",
      "\n",
      "def area(radius: float) -> float:\n",
      "    return math.pi * radius**2\n",
      "\n",
      "if __name__ = \"__main__\":\n",
      "    print(\" *** Module executed *** \")\n",
      "    assert(area(radius=1.0)==math.pi)\n",
      "    assert(math.isclose(area(radius=2.0), 6.28))\n",
      "else:\n",
      "    print(\" --- Module IMPORTED --- \")"
     ]
    }
   ],
   "source": [
    "!cat circle.py"
   ]
  },
  {
   "cell_type": "code",
   "execution_count": 18,
   "id": "b0394607-2ec2-4446-8d92-0e2131bb0b4b",
   "metadata": {},
   "outputs": [
    {
     "name": "stdout",
     "output_type": "stream",
     "text": [
      " *** Module executed *** \n",
      "Traceback (most recent call last):\n",
      "  File \"/Users/pwj/proj/python/sliceopy/notebooks/circle.py\", line 9, in <module>\n",
      "    assert(math.isclose(area(radius=2.0), 6.28))\n",
      "           ^^^^^^^^^^^^^^^^^^^^^^^^^^^^^^^^^^^^\n",
      "AssertionError\n"
     ]
    }
   ],
   "source": [
    "!python circle.py"
   ]
  },
  {
   "cell_type": "code",
   "execution_count": 19,
   "id": "ba54f294-3d48-4a02-8ac5-1f098b36137e",
   "metadata": {},
   "outputs": [
    {
     "name": "stdout",
     "output_type": "stream",
     "text": [
      " --- Module IMPORTED --- \n"
     ]
    }
   ],
   "source": [
    "import circle"
   ]
  },
  {
   "cell_type": "code",
   "execution_count": 20,
   "id": "707b37f6-28f2-495c-af91-cd198dfdce73",
   "metadata": {},
   "outputs": [
    {
     "data": {
      "text/plain": [
       "12.566370614359172"
      ]
     },
     "execution_count": 20,
     "metadata": {},
     "output_type": "execute_result"
    }
   ],
   "source": [
    "circle.area(2)"
   ]
  },
  {
   "cell_type": "markdown",
   "id": "430ce439-bfb2-487e-b7ee-2d77abe61e11",
   "metadata": {},
   "source": [
    "## Standard Library Packages\n",
    "\n",
    "- `datetime` - dealing with dates and times\n",
    "- `pathlib` - to construct a `Path` as an object (system independent)\n",
    "- `json` - library to handle JSON converesions"
   ]
  },
  {
   "cell_type": "markdown",
   "id": "8c88e746-e0f3-4b5b-8b16-4fadfdda6765",
   "metadata": {},
   "source": [
    "### Datetime Package"
   ]
  },
  {
   "cell_type": "code",
   "execution_count": 21,
   "id": "b461a94f-33c4-4914-abf6-9e338dbc9977",
   "metadata": {},
   "outputs": [],
   "source": [
    "import datetime"
   ]
  },
  {
   "cell_type": "code",
   "execution_count": 22,
   "id": "0da5fffa-d340-401a-aa4d-3d74326446d5",
   "metadata": {},
   "outputs": [
    {
     "data": {
      "text/plain": [
       "datetime.datetime(2025, 5, 21, 12, 17, 47, 7299)"
      ]
     },
     "execution_count": 22,
     "metadata": {},
     "output_type": "execute_result"
    }
   ],
   "source": [
    "dt = datetime.datetime.now()\n",
    "dt"
   ]
  },
  {
   "cell_type": "code",
   "execution_count": 23,
   "id": "d5361e24-f8c1-4647-b56c-86404277e4c9",
   "metadata": {},
   "outputs": [
    {
     "data": {
      "text/plain": [
       "'Wednesday 2025-05-21 12:17'"
      ]
     },
     "execution_count": 23,
     "metadata": {},
     "output_type": "execute_result"
    }
   ],
   "source": [
    "dt.strftime(\"%A %Y-%m-%d %H:%M\")"
   ]
  },
  {
   "cell_type": "code",
   "execution_count": 24,
   "id": "e11ae96d-6472-4e3e-9375-9a0d7fe4cb22",
   "metadata": {},
   "outputs": [
    {
     "data": {
      "text/plain": [
       "'Monday 2025-05-19 09:02'"
      ]
     },
     "execution_count": 24,
     "metadata": {},
     "output_type": "execute_result"
    }
   ],
   "source": [
    "dt_past = dt - datetime.timedelta(days=2, hours=3, minutes=15)\n",
    "dt_past.strftime(\"%A %Y-%m-%d %H:%M\")"
   ]
  },
  {
   "cell_type": "code",
   "execution_count": 25,
   "id": "db7b74aa-8f98-4731-80ab-d92d9159a742",
   "metadata": {},
   "outputs": [
    {
     "data": {
      "text/plain": [
       "datetime.date(2025, 3, 10)"
      ]
     },
     "execution_count": 25,
     "metadata": {},
     "output_type": "execute_result"
    }
   ],
   "source": [
    "d = datetime.date.fromisoformat('2025-03-10')\n",
    "d"
   ]
  },
  {
   "cell_type": "markdown",
   "id": "1055a43a-faaa-4c05-9d9c-e6c2054554cb",
   "metadata": {},
   "source": [
    "### Pathlib package"
   ]
  },
  {
   "cell_type": "code",
   "execution_count": 26,
   "id": "b7ceba35-7200-4e03-8fa8-ca2fd54e08be",
   "metadata": {},
   "outputs": [],
   "source": [
    "from pathlib import Path"
   ]
  },
  {
   "cell_type": "code",
   "execution_count": 28,
   "id": "de0cb7ad-ca7b-4b44-b325-74e06aa40c02",
   "metadata": {},
   "outputs": [
    {
     "data": {
      "text/plain": [
       "PosixPath('/Users/pwj/proj/python/sliceopy/notebooks')"
      ]
     },
     "execution_count": 28,
     "metadata": {},
     "output_type": "execute_result"
    }
   ],
   "source": [
    "p = Path.cwd()\n",
    "p"
   ]
  },
  {
   "cell_type": "code",
   "execution_count": 29,
   "id": "2ccb29ab-6392-4fa7-b5f7-9ff6692329f4",
   "metadata": {},
   "outputs": [
    {
     "data": {
      "text/plain": [
       "PosixPath('/Users/pwj/proj/python/sliceopy/notebooks/circle.py')"
      ]
     },
     "execution_count": 29,
     "metadata": {},
     "output_type": "execute_result"
    }
   ],
   "source": [
    "filepath = p / 'circle.py'\n",
    "filepath"
   ]
  },
  {
   "cell_type": "code",
   "execution_count": 30,
   "id": "2cff768a-89dc-445b-94c4-39b6f85c6c3b",
   "metadata": {},
   "outputs": [
    {
     "name": "stdout",
     "output_type": "stream",
     "text": [
      "Path parent: /Users/pwj/proj/python/sliceopy/notebooks\n",
      "Path name: circle.py\n",
      "Path stem: circle\n",
      "Path suffix: .py\n",
      "Path anchor: /\n"
     ]
    }
   ],
   "source": [
    "# Properties of Path\n",
    "print(f\"Path parent: {filepath.parent}\")\n",
    "print(f\"Path name: {filepath.name}\")\n",
    "print(f\"Path stem: {filepath.stem}\")\n",
    "print(f\"Path suffix: {filepath.suffix}\")\n",
    "print(f\"Path anchor: {filepath.anchor}\")"
   ]
  },
  {
   "cell_type": "markdown",
   "id": "225ff7b4-deee-44dd-97ad-cdfe4be47e55",
   "metadata": {},
   "source": [
    "<center><img src=\"img/path-attributes.png\"></center>"
   ]
  },
  {
   "cell_type": "markdown",
   "id": "77c4f910-f34c-4d72-a82d-4104000030af",
   "metadata": {},
   "source": [
    "## JSON package"
   ]
  },
  {
   "cell_type": "code",
   "execution_count": 27,
   "id": "51b30421-0ae3-4990-936a-116952ce5fe1",
   "metadata": {},
   "outputs": [],
   "source": [
    "import json"
   ]
  },
  {
   "cell_type": "code",
   "execution_count": null,
   "id": "1aaac478-2e1d-43a1-86e2-2a97e6d88413",
   "metadata": {},
   "outputs": [],
   "source": []
  },
  {
   "cell_type": "code",
   "execution_count": null,
   "id": "f31bebe9-16d7-4032-8237-1cd46e9b7a1b",
   "metadata": {},
   "outputs": [],
   "source": []
  }
 ],
 "metadata": {
  "kernelspec": {
   "display_name": "Python 3 (ipykernel)",
   "language": "python",
   "name": "python3"
  },
  "language_info": {
   "codemirror_mode": {
    "name": "ipython",
    "version": 3
   },
   "file_extension": ".py",
   "mimetype": "text/x-python",
   "name": "python",
   "nbconvert_exporter": "python",
   "pygments_lexer": "ipython3",
   "version": "3.12.10"
  }
 },
 "nbformat": 4,
 "nbformat_minor": 5
}
