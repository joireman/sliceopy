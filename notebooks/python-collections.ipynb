{
 "cells": [
  {
   "cell_type": "markdown",
   "id": "9a8a2fa9-ca22-45f6-98c4-a20969792324",
   "metadata": {},
   "source": [
    "## List, and Tuples, and Dicts - Oh My!!\n",
    "\n",
    "A wonderful and useful feature of Python is that it provides several built-in data structures that are very useful for building up larger programs.  Specifically\n",
    "\n",
    "- `list --> []` : an ordered sequence of heterogenous elements or items, where items can be changed in place\n",
    "- `tuple --> ()` : an ordered sequence of heterogenous elements or items, where items **CAN NOT** be changed in place \n",
    "- `dict --> {}`  : an associative array or map, where a `key` is associated with a `value`, optimized for \"lookup\"\n",
    "\n",
    "`list`, `tuple` and `dict` are also keywords in Python which can be used to create a variable of that type but more frequently you'll see the literal syntax used to create these types, this literal syntax is shown above `[]` for a `list`, `()` for a `tuple` and `{}` for a dict."
   ]
  },
  {
   "cell_type": "markdown",
   "id": "5b69b2fc-7f1a-44a6-ae09-22729df699e4",
   "metadata": {},
   "source": [
    "### Lists\n",
    "\n",
    "A **`list` is a mutable, ordered and iterable sequence** which can store a heterogenous and dynamic set of values.   Lots of big words there so lets learn by example"
   ]
  },
  {
   "cell_type": "code",
   "execution_count": 21,
   "id": "d5d4a372-9870-4452-9acd-186554ac6e4a",
   "metadata": {},
   "outputs": [],
   "source": [
    "alist = [1, 4, 9, 16, 25]\n",
    "blist = [1, \"two\", 3, \"four\", False]    # heterogenous storage, we can store ints, strings, floats and booleans"
   ]
  },
  {
   "cell_type": "code",
   "execution_count": 22,
   "id": "d5098581-4618-485b-8d2d-23d248ec2421",
   "metadata": {},
   "outputs": [
    {
     "data": {
      "text/plain": [
       "[1, 4, 9, 16, 25, 36]"
      ]
     },
     "execution_count": 22,
     "metadata": {},
     "output_type": "execute_result"
    }
   ],
   "source": [
    "# Lists are dynamic, they grow as you add things, it can also shrink\n",
    "alist.append(36)\n",
    "alist"
   ]
  },
  {
   "cell_type": "markdown",
   "id": "c7d9c6e5-b38b-4391-9ead-c206ce3c9aaa",
   "metadata": {},
   "source": [
    "We can add data to a list, changing the list in place, so a list is *mutable* (it can be changed in place)."
   ]
  },
  {
   "cell_type": "code",
   "execution_count": 23,
   "id": "02f14716-fdff-48de-a53c-77c4a022ab4a",
   "metadata": {},
   "outputs": [
    {
     "data": {
      "text/plain": [
       "[1, 4, 9, 16, 25, 36, [49, 64]]"
      ]
     },
     "execution_count": 23,
     "metadata": {},
     "output_type": "execute_result"
    }
   ],
   "source": [
    "# Lets add more elements at a time ... \n",
    "alist.append([49, 64])\n",
    "alist"
   ]
  },
  {
   "cell_type": "code",
   "execution_count": 37,
   "id": "1b6032be-ff1e-4e3f-a718-e14cbe8a2f0d",
   "metadata": {},
   "outputs": [
    {
     "data": {
      "text/plain": [
       "[1, 4, 9, 16, 25, 36, 49, 64]"
      ]
     },
     "execution_count": 37,
     "metadata": {},
     "output_type": "execute_result"
    }
   ],
   "source": [
    "alist=[1, 4, 9, 16, 25]\n",
    "alist.extend([36, 49, 64])\n",
    "alist"
   ]
  },
  {
   "cell_type": "code",
   "execution_count": 38,
   "id": "63272638-8aa7-42dd-a4ab-54c4f5d9aaef",
   "metadata": {},
   "outputs": [
    {
     "name": "stdout",
     "output_type": "stream",
     "text": [
      "alist has 8 elements\n"
     ]
    }
   ],
   "source": [
    "print(f\"alist has {len(alist)} elements\")   # len is a built in which gives the length of any list (or tuple, or dict)"
   ]
  },
  {
   "cell_type": "markdown",
   "id": "d1c803a9-c32a-42b1-a8d1-6d9939511ed8",
   "metadata": {},
   "source": [
    "There are a few built in functions like `len` that operate on objects instead of being a method of an object."
   ]
  },
  {
   "cell_type": "code",
   "execution_count": 40,
   "id": "b985d4bb-63c2-491a-8a93-5162fd4ffe6a",
   "metadata": {},
   "outputs": [
    {
     "data": {
      "text/plain": [
       "[64, 49, 36, 25, 16, 9, 4, 1]"
      ]
     },
     "execution_count": 40,
     "metadata": {},
     "output_type": "execute_result"
    }
   ],
   "source": [
    "alist.sort(reverse=True)        # changes list in place (hmmm - what does alist.sort(reverse=True) return???\n",
    "alist"
   ]
  },
  {
   "cell_type": "code",
   "execution_count": 42,
   "id": "efadb335-509f-4b8e-b8bc-984497edd138",
   "metadata": {},
   "outputs": [
    {
     "data": {
      "text/plain": [
       "[64, 49, 36, 25, 16, 9, 4, 1]"
      ]
     },
     "execution_count": 42,
     "metadata": {},
     "output_type": "execute_result"
    }
   ],
   "source": [
    "alist=[1, 4, 9, 16, 25]\n",
    "alist.extend([36, 49, 64])\n",
    "sorted(alist, reverse=True)   # Sorts the list but does not modify it "
   ]
  },
  {
   "cell_type": "code",
   "execution_count": 43,
   "id": "8cce3f8c-78fa-48a9-984b-b2fff9951d3c",
   "metadata": {},
   "outputs": [
    {
     "data": {
      "text/plain": [
       "[1, 4, 9, 16, 25, 36, 49, 64]"
      ]
     },
     "execution_count": 43,
     "metadata": {},
     "output_type": "execute_result"
    }
   ],
   "source": [
    "alist                         # See the list is the same"
   ]
  },
  {
   "cell_type": "markdown",
   "id": "91129567-d8be-48be-a9b0-2ce40d066543",
   "metadata": {},
   "source": [
    "Notice that a list is an object, it has a type (`list`), data and methods (`append()`, `extend()`, ...).  We can add data to a list, changing the list in place, so a list is *mutable* (it can be changed in place).  There are several other methods for a list which we can get using the built-in `dir` function"
   ]
  },
  {
   "cell_type": "code",
   "execution_count": 1,
   "id": "43fa7cfc-a80b-4baa-bd0b-86d651e2f0dc",
   "metadata": {},
   "outputs": [
    {
     "name": "stdout",
     "output_type": "stream",
     "text": [
      "append\n",
      "Help on method_descriptor in list:\n",
      "\n",
      "list.append = append(self, object, /) unbound builtins.list method\n",
      "    Append object to the end of the list.\n",
      "\n",
      "clear\n",
      "Help on method_descriptor in list:\n",
      "\n",
      "list.clear = clear(self, /) unbound builtins.list method\n",
      "    Remove all items from list.\n",
      "\n",
      "copy\n",
      "Help on method_descriptor in list:\n",
      "\n",
      "list.copy = copy(self, /) unbound builtins.list method\n",
      "    Return a shallow copy of the list.\n",
      "\n",
      "count\n",
      "Help on method_descriptor in list:\n",
      "\n",
      "list.count = count(self, value, /) unbound builtins.list method\n",
      "    Return number of occurrences of value.\n",
      "\n",
      "extend\n",
      "Help on method_descriptor in list:\n",
      "\n",
      "list.extend = extend(self, iterable, /) unbound builtins.list method\n",
      "    Extend list by appending elements from the iterable.\n",
      "\n",
      "index\n",
      "Help on method_descriptor in list:\n",
      "\n",
      "list.index = index(self, value, start=0, stop=9223372036854775807, /) unbound builtins.list method\n",
      "    Return first index of value.\n",
      "\n",
      "    Raises ValueError if the value is not present.\n",
      "\n",
      "insert\n",
      "Help on method_descriptor in list:\n",
      "\n",
      "list.insert = insert(self, index, object, /) unbound builtins.list method\n",
      "    Insert object before index.\n",
      "\n",
      "pop\n",
      "Help on method_descriptor in list:\n",
      "\n",
      "list.pop = pop(self, index=-1, /) unbound builtins.list method\n",
      "    Remove and return item at index (default last).\n",
      "\n",
      "    Raises IndexError if list is empty or index is out of range.\n",
      "\n",
      "remove\n",
      "Help on method_descriptor in list:\n",
      "\n",
      "list.remove = remove(self, value, /) unbound builtins.list method\n",
      "    Remove first occurrence of value.\n",
      "\n",
      "    Raises ValueError if the value is not present.\n",
      "\n",
      "reverse\n",
      "Help on method_descriptor in list:\n",
      "\n",
      "list.reverse = reverse(self, /) unbound builtins.list method\n",
      "    Reverse *IN PLACE*.\n",
      "\n",
      "sort\n",
      "Help on method_descriptor in list:\n",
      "\n",
      "list.sort = sort(self, /, *, key=None, reverse=False) unbound builtins.list method\n",
      "    Sort the list in ascending order and return None.\n",
      "\n",
      "    The sort is in-place (i.e. the list itself is modified) and stable (i.e. the\n",
      "    order of two equal elements is maintained).\n",
      "\n",
      "    If a key function is given, apply it once to each list item and sort them,\n",
      "    ascending or descending, according to their function values.\n",
      "\n",
      "    The reverse flag can be set to sort in descending order.\n",
      "\n"
     ]
    }
   ],
   "source": [
    "for method in dir(list):\n",
    "    if not method.startswith('__'):\n",
    "        print(f\"{method}\")\n",
    "        help(f\"list.{method}\")\n",
    "    "
   ]
  },
  {
   "cell_type": "markdown",
   "id": "cda0d826-bcd0-40c4-ad14-2cb314f03463",
   "metadata": {},
   "source": [
    "A list is `iterable` in the sense that we can `iterate` through the list retrieving one element at a time and processing that element however we want"
   ]
  },
  {
   "cell_type": "code",
   "execution_count": 6,
   "id": "13f79164-4ce4-405b-8873-6f870316ad0c",
   "metadata": {},
   "outputs": [
    {
     "name": "stdout",
     "output_type": "stream",
     "text": [
      "1, 4, 9, 16, "
     ]
    }
   ],
   "source": [
    "# A for loop is a classic way  to iterate through a list\n",
    "values = [1, 2, 3, 4]\n",
    "for x in values:\n",
    "    print(f\"{x**2}\", end=\", \")"
   ]
  },
  {
   "cell_type": "markdown",
   "id": "7986a910-dca2-4ac7-a7f1-4153ef18c1fe",
   "metadata": {},
   "source": [
    "### Indexing\n",
    "\n",
    "Since a `list` is an ordered sequence, we can select one or more elements from it and assign those valuesto other variables or just use the value to print.   We use square brackets `[ ]` to select or index into a `list`.\n",
    "\n",
    "<center><img src=\"img/list-indexing.png\"></center>"
   ]
  },
  {
   "cell_type": "code",
   "execution_count": 44,
   "id": "886ac6c6-7530-40d5-9bd2-ffabd7f9c30e",
   "metadata": {},
   "outputs": [
    {
     "data": {
      "text/plain": [
       "[1, 'two', 3, 'four', False]"
      ]
     },
     "execution_count": 44,
     "metadata": {},
     "output_type": "execute_result"
    }
   ],
   "source": [
    "blist"
   ]
  },
  {
   "cell_type": "code",
   "execution_count": 45,
   "id": "3a1eef8e-392f-42c9-bee3-7d0ae330267e",
   "metadata": {},
   "outputs": [
    {
     "data": {
      "text/plain": [
       "1"
      ]
     },
     "execution_count": 45,
     "metadata": {},
     "output_type": "execute_result"
    }
   ],
   "source": [
    "blist[0]     # Indexing is 0 based, the first index is always 0"
   ]
  },
  {
   "cell_type": "markdown",
   "id": "39e0d9c3-b008-4ee4-abe8-38730227d1ca",
   "metadata": {},
   "source": [
    "We can select more than one element by using an object called a slice which sounds fancier than it looks --> `start:stop:step`.  We specify the `start` index, \n",
    "`stop` index and the `step` (usually omitted in which case it defaults to 1 - surprise!)   The difference between the stop and the start is always the number of elements retrieved\n",
    "from the list     "
   ]
  },
  {
   "cell_type": "code",
   "execution_count": 46,
   "id": "a7635f04-250d-4673-a22a-6fb520016951",
   "metadata": {},
   "outputs": [
    {
     "data": {
      "text/plain": [
       "['two', 3]"
      ]
     },
     "execution_count": 46,
     "metadata": {},
     "output_type": "execute_result"
    }
   ],
   "source": [
    "blist[1:3]      # The "
   ]
  },
  {
   "cell_type": "code",
   "execution_count": 47,
   "id": "57388bac-b87e-4c64-84fe-2754182632c4",
   "metadata": {},
   "outputs": [
    {
     "data": {
      "text/plain": [
       "['two', 3, 'four', False]"
      ]
     },
     "execution_count": 47,
     "metadata": {},
     "output_type": "execute_result"
    }
   ],
   "source": [
    "blist[1:]      # Omitting the stop value fetches all values to the end of the list"
   ]
  },
  {
   "cell_type": "code",
   "execution_count": 48,
   "id": "db6e1c66-61ad-4dd9-a55b-b84b484c3518",
   "metadata": {},
   "outputs": [
    {
     "data": {
      "text/plain": [
       "[1, 'two', 3, 'four']"
      ]
     },
     "execution_count": 48,
     "metadata": {},
     "output_type": "execute_result"
    }
   ],
   "source": [
    "blist[:4]      # Omitting the start value, selects from the beginning to the stop index"
   ]
  },
  {
   "cell_type": "code",
   "execution_count": 49,
   "id": "b8468877-df67-4d2d-89ed-908f111258d3",
   "metadata": {},
   "outputs": [
    {
     "data": {
      "text/plain": [
       "[1, 3, False]"
      ]
     },
     "execution_count": 49,
     "metadata": {},
     "output_type": "execute_result"
    }
   ],
   "source": [
    "blist[::2]     # Step in action"
   ]
  },
  {
   "cell_type": "code",
   "execution_count": 50,
   "id": "7504e95b-7f0e-4e87-8142-3ba50f59ed60",
   "metadata": {},
   "outputs": [
    {
     "data": {
      "text/plain": [
       "['four', False]"
      ]
     },
     "execution_count": 50,
     "metadata": {},
     "output_type": "execute_result"
    }
   ],
   "source": [
    "blist[-2:]     # whoa, negative indexes are allowed!!"
   ]
  },
  {
   "cell_type": "code",
   "execution_count": null,
   "id": "37810dd0-57c3-4ff4-8b08-43bfd6b88a78",
   "metadata": {},
   "outputs": [],
   "source": [
    "# List comprehension, creating a new list from an iterable"
   ]
  },
  {
   "cell_type": "code",
   "execution_count": 9,
   "id": "d8183660-3142-4b68-b0a3-2c999fd8021f",
   "metadata": {},
   "outputs": [
    {
     "data": {
      "text/plain": [
       "[1, 4, 9, 16, 25, 36]"
      ]
     },
     "execution_count": 9,
     "metadata": {},
     "output_type": "execute_result"
    }
   ],
   "source": [
    "values = [1, 2, 3, 4, 5, 6]   # range(1,7,1) : range is really a \"generator\" but functions as a list\n",
    "squares = [x**2 for x in values]\n",
    "squares"
   ]
  },
  {
   "cell_type": "markdown",
   "id": "98de4cce-718d-4134-89b9-7bbb4fdd6f21",
   "metadata": {},
   "source": [
    "### Tuples\n",
    "\n",
    "**A tuple is an immutable, ordered and iterable sequence**, after it is created its value cannot be changed.   This property of tuples makes them useful for very specific things and Python uses this ability.   Some of the ways you'll see tuples used are:\n",
    "\n",
    "- To represent a database record or row read from a database\n",
    "- The return value from a function which returns multiple values\n",
    "- A key for a `dict` - we'll see that shortly"
   ]
  },
  {
   "cell_type": "code",
   "execution_count": 17,
   "id": "ee968da9-c0fc-4229-ab5f-887512e4791a",
   "metadata": {},
   "outputs": [],
   "source": [
    "# A tuple can be created with the tuple() \"constructor\" or more often the literal ( )\n",
    "tuple1 = tuple([1, 3, 5, 7, 9])   # Note: it expects a single iterable argument\n",
    "tuple2 = (2, 4, 6, 8, 10)"
   ]
  },
  {
   "cell_type": "code",
   "execution_count": 18,
   "id": "63fd36e6-36d1-494f-a640-89a89991f854",
   "metadata": {},
   "outputs": [
    {
     "data": {
      "text/plain": [
       "(1, 3, 5, 7, 9)"
      ]
     },
     "execution_count": 18,
     "metadata": {},
     "output_type": "execute_result"
    }
   ],
   "source": [
    "tuple1"
   ]
  },
  {
   "cell_type": "markdown",
   "id": "7954d240-af43-4ca6-9b4a-f898213399a8",
   "metadata": {},
   "source": [
    "Indexing works in exactly the same way as for lists"
   ]
  },
  {
   "cell_type": "code",
   "execution_count": 19,
   "id": "d3470233-3dc5-4334-91dc-5a116dd49fdb",
   "metadata": {},
   "outputs": [
    {
     "data": {
      "text/plain": [
       "True"
      ]
     },
     "execution_count": 19,
     "metadata": {},
     "output_type": "execute_result"
    }
   ],
   "source": [
    "\n",
    "tuple1[1] == 3   # you can get the value of a tuple at a given index"
   ]
  },
  {
   "cell_type": "code",
   "execution_count": 20,
   "id": "f15085df-9d53-4df2-914c-d84013e7ad66",
   "metadata": {},
   "outputs": [
    {
     "ename": "TypeError",
     "evalue": "'tuple' object does not support item assignment",
     "output_type": "error",
     "traceback": [
      "\u001b[0;31m---------------------------------------------------------------------------\u001b[0m",
      "\u001b[0;31mTypeError\u001b[0m                                 Traceback (most recent call last)",
      "Cell \u001b[0;32mIn[20], line 1\u001b[0m\n\u001b[0;32m----> 1\u001b[0m \u001b[43mtuple2\u001b[49m\u001b[43m[\u001b[49m\u001b[38;5;241;43m2\u001b[39;49m\u001b[43m]\u001b[49m \u001b[38;5;241m=\u001b[39m \u001b[38;5;241m3\u001b[39m\u001b[38;5;241m*\u001b[39m\u001b[38;5;241m4\u001b[39m  \u001b[38;5;66;03m# you CAN NOT assign a new value -- tuples are IMMUTABLE\u001b[39;00m\n",
      "\u001b[0;31mTypeError\u001b[0m: 'tuple' object does not support item assignment"
     ]
    }
   ],
   "source": [
    "tuple2[2] = 3*4  # you CAN NOT assign a new value -- tuples are IMMUTABLE"
   ]
  },
  {
   "cell_type": "code",
   "execution_count": 21,
   "id": "b1a03613-920c-4d55-96dc-8829c90208dc",
   "metadata": {},
   "outputs": [
    {
     "data": {
      "text/plain": [
       "'This is not a tuple'"
      ]
     },
     "execution_count": 21,
     "metadata": {},
     "output_type": "execute_result"
    }
   ],
   "source": [
    "# You can reassign the name of the variable to something completely different\n",
    "tuple2 = \"This is not a tuple\"   # we aren't changing the tuple we are just using the label for something else\n",
    "tuple2"
   ]
  },
  {
   "cell_type": "code",
   "execution_count": 22,
   "id": "cb6963d9-9dd1-4742-ba3f-0dc733106ddc",
   "metadata": {},
   "outputs": [
    {
     "name": "stdout",
     "output_type": "stream",
     "text": [
      "Length of tuple1: 5\n",
      "Max of tuple1:    9\n",
      "Min of tuple1:    1\n"
     ]
    }
   ],
   "source": [
    "# Similar to lists Python built-in functions work on tuples\n",
    "print(f\"Length of tuple1: {len(tuple1)}\")\n",
    "print(f\"Max of tuple1:    {max(tuple1)}\")\n",
    "print(f\"Min of tuple1:    {min(tuple1)}\")\n"
   ]
  },
  {
   "cell_type": "code",
   "execution_count": 23,
   "id": "d92b077f-3559-4861-946b-99a516d10b4d",
   "metadata": {},
   "outputs": [
    {
     "data": {
      "text/plain": [
       "('This value', 3.14, 'is equal to pi', True)"
      ]
     },
     "execution_count": 23,
     "metadata": {},
     "output_type": "execute_result"
    }
   ],
   "source": [
    "# Tuples can store heterogenous data\n",
    "tuple3 = (\"This value\", 3.14, \"is equal to pi\", True)\n",
    "tuple3"
   ]
  },
  {
   "cell_type": "markdown",
   "id": "82f788dd-588e-4661-b584-4956b3973dde",
   "metadata": {},
   "source": [
    "### Dicts"
   ]
  },
  {
   "cell_type": "markdown",
   "id": "fbb3ab36-3e58-4946-9cf8-22454b0fa1d2",
   "metadata": {},
   "source": [
    "**A `dict` is a mapping of `key` and `value` pairs**, think of a dictionary where the key is a word and its value is the definition.  The `key` must be immutable, often a string is used, but keys are not restricted to strings, that is just the most common key type.  When accessing the `dict` you provide the `key` and receive the `value` associated with that key.   A `dict` can also be referred to as an *associative array*, *map*, *lookup table* to name a few.   `Dict`s are optimized for key access and have no inherent ordering.\n",
    "\n",
    "A `dict` can "
   ]
  },
  {
   "cell_type": "code",
   "execution_count": 31,
   "id": "1049f660-7257-4c9e-a162-c99f81a5257a",
   "metadata": {},
   "outputs": [
    {
     "data": {
      "text/plain": [
       "{'a': 1, 'b': 2, 'c': 3}"
      ]
     },
     "execution_count": 31,
     "metadata": {},
     "output_type": "execute_result"
    }
   ],
   "source": [
    "# A dict can be created using the `dict` constructor or the literal { }\n",
    "dict1 = dict([('a', 1), ('b', 2), ('c', 3)])   # a list of tuples\n",
    "dict2 = {'d': 4, 'e': 5, 'f': 6}               # you see this more commonly, at least for small dictionaries\n",
    "dict1"
   ]
  },
  {
   "cell_type": "code",
   "execution_count": 24,
   "id": "a7a0ecd5-504b-4c4c-a43b-88178e0eb783",
   "metadata": {},
   "outputs": [],
   "source": [
    "#                 key            value            \n",
    "phone_book = {'John Smith': \"(111) 222-3333\", \"Jill Johnston\": \"(444) 555-6666\", \"Sam Michaels\": \"(777) 888-9999\"}"
   ]
  },
  {
   "cell_type": "code",
   "execution_count": 25,
   "id": "ac2d06dd-d47e-4571-a27f-7610872948f5",
   "metadata": {},
   "outputs": [
    {
     "data": {
      "text/plain": [
       "'(111) 222-3333'"
      ]
     },
     "execution_count": 25,
     "metadata": {},
     "output_type": "execute_result"
    }
   ],
   "source": [
    "# Lookup the phone number of someone\n",
    "phone_book[\"John Smith\"]"
   ]
  },
  {
   "cell_type": "code",
   "execution_count": 26,
   "id": "55c7ef25-4682-4549-979b-f19f6561f551",
   "metadata": {},
   "outputs": [
    {
     "ename": "KeyError",
     "evalue": "'Kevin Bacon'",
     "output_type": "error",
     "traceback": [
      "\u001b[0;31m---------------------------------------------------------------------------\u001b[0m",
      "\u001b[0;31mKeyError\u001b[0m                                  Traceback (most recent call last)",
      "Cell \u001b[0;32mIn[26], line 2\u001b[0m\n\u001b[1;32m      1\u001b[0m \u001b[38;5;66;03m# What if th e key doesn't exist\u001b[39;00m\n\u001b[0;32m----> 2\u001b[0m \u001b[43mphone_book\u001b[49m\u001b[43m[\u001b[49m\u001b[38;5;124;43m\"\u001b[39;49m\u001b[38;5;124;43mKevin Bacon\u001b[39;49m\u001b[38;5;124;43m\"\u001b[39;49m\u001b[43m]\u001b[49m\n",
      "\u001b[0;31mKeyError\u001b[0m: 'Kevin Bacon'"
     ]
    }
   ],
   "source": [
    "# What if the key doesn't exist\n",
    "phone_book[\"Kevin Bacon\"]"
   ]
  },
  {
   "cell_type": "code",
   "execution_count": 22,
   "id": "ec95472b-e380-40fb-b20c-93276587666f",
   "metadata": {},
   "outputs": [],
   "source": [
    "# To handle errors gracefully use `get()`"
   ]
  },
  {
   "cell_type": "code",
   "execution_count": 23,
   "id": "e5df21c5-7a69-4759-88d6-3f77e08a9fdc",
   "metadata": {},
   "outputs": [
    {
     "data": {
      "text/plain": [
       "'Unknown Name'"
      ]
     },
     "execution_count": 23,
     "metadata": {},
     "output_type": "execute_result"
    }
   ],
   "source": [
    "# What if th e key doesn't exist\n",
    "phone_book.get(\"Kevin Bacon\", \"Unknown Name\")"
   ]
  },
  {
   "cell_type": "code",
   "execution_count": 24,
   "id": "673c10c1-feb1-4959-b4f0-f4266a0ebf8c",
   "metadata": {},
   "outputs": [
    {
     "name": "stdout",
     "output_type": "stream",
     "text": [
      "(111) 222-3333\n",
      "(001)-234-5678\n"
     ]
    }
   ],
   "source": [
    "# You can over-write a value for a given key too\n",
    "print(phone_book['John Smith'])\n",
    "phone_book['John Smith']='(001)-234-5678'\n",
    "print(phone_book['John Smith'])"
   ]
  },
  {
   "cell_type": "code",
   "execution_count": 32,
   "id": "86a380e3-b725-41fe-afb0-faf8c66e1ac6",
   "metadata": {},
   "outputs": [
    {
     "data": {
      "text/plain": [
       "{'John Smith': '(111) 222-3333',\n",
       " 'Jill Johnston': '(444) 555-6666',\n",
       " 'Sam Michaels': '(777) 888-9999',\n",
       " 'Mark Twain': '(543) 123-9876'}"
      ]
     },
     "execution_count": 32,
     "metadata": {},
     "output_type": "execute_result"
    }
   ],
   "source": [
    "# You can also add new values by assigning to an unknown key\n",
    "phone_book['Mark Twain'] = '(543) 123-9876'\n",
    "phone_book"
   ]
  },
  {
   "cell_type": "code",
   "execution_count": 25,
   "id": "883f12d2-845b-4651-9c71-370f29cd5439",
   "metadata": {},
   "outputs": [
    {
     "name": "stdout",
     "output_type": "stream",
     "text": [
      "clear\n",
      "Help on method_descriptor in list:\n",
      "\n",
      "list.clear = clear(self, /) unbound builtins.list method\n",
      "    Remove all items from list.\n",
      "\n",
      "copy\n",
      "Help on method_descriptor in list:\n",
      "\n",
      "list.copy = copy(self, /) unbound builtins.list method\n",
      "    Return a shallow copy of the list.\n",
      "\n",
      "fromkeys\n",
      "No Python documentation found for 'list.fromkeys'.\n",
      "Use help() to get the interactive help utility.\n",
      "Use help(str) for help on the str class.\n",
      "\n",
      "get\n",
      "No Python documentation found for 'list.get'.\n",
      "Use help() to get the interactive help utility.\n",
      "Use help(str) for help on the str class.\n",
      "\n",
      "items\n",
      "No Python documentation found for 'list.items'.\n",
      "Use help() to get the interactive help utility.\n",
      "Use help(str) for help on the str class.\n",
      "\n",
      "keys\n",
      "No Python documentation found for 'list.keys'.\n",
      "Use help() to get the interactive help utility.\n",
      "Use help(str) for help on the str class.\n",
      "\n",
      "pop\n",
      "Help on method_descriptor in list:\n",
      "\n",
      "list.pop = pop(self, index=-1, /) unbound builtins.list method\n",
      "    Remove and return item at index (default last).\n",
      "\n",
      "    Raises IndexError if list is empty or index is out of range.\n",
      "\n",
      "popitem\n",
      "No Python documentation found for 'list.popitem'.\n",
      "Use help() to get the interactive help utility.\n",
      "Use help(str) for help on the str class.\n",
      "\n",
      "setdefault\n",
      "No Python documentation found for 'list.setdefault'.\n",
      "Use help() to get the interactive help utility.\n",
      "Use help(str) for help on the str class.\n",
      "\n",
      "update\n",
      "No Python documentation found for 'list.update'.\n",
      "Use help() to get the interactive help utility.\n",
      "Use help(str) for help on the str class.\n",
      "\n",
      "values\n",
      "No Python documentation found for 'list.values'.\n",
      "Use help() to get the interactive help utility.\n",
      "Use help(str) for help on the str class.\n",
      "\n"
     ]
    }
   ],
   "source": [
    "for method in dir(dict):\n",
    "    if not method.startswith('__'):\n",
    "        print(f\"{method}\")\n",
    "        help(f\"list.{method}\")\n",
    "    "
   ]
  },
  {
   "cell_type": "markdown",
   "id": "ae475825-851e-4a4e-a68e-6aac3080b22d",
   "metadata": {},
   "source": [
    "Some very important methods of a `dict` are:\n",
    "\n",
    "1. `keys()`: returns a list of all defined keys\n",
    "2. `values()`: returns a list of all defined values\n",
    "3. `items()`: returns a list of tuples with (`key`, `value`) pairs\n",
    "4. `uptate()`: add additional keys and values to t he `dict`, if there are equivalent keys, the newcomer with had his value stored in an unstable environement\n",
    "5. `get(key, default=None)` : get a value from a `dict` by key.  If the key is not found, the `default` values is returned."
   ]
  },
  {
   "cell_type": "code",
   "execution_count": 27,
   "id": "e2855783-72bd-4014-a2e8-b1f50837eb63",
   "metadata": {},
   "outputs": [
    {
     "data": {
      "text/plain": [
       "{'John Smith': '(111) 222-3333',\n",
       " 'Jill Johnston': '(444) 555-6666',\n",
       " 'Sam Michaels': '(777) 888-9999'}"
      ]
     },
     "execution_count": 27,
     "metadata": {},
     "output_type": "execute_result"
    }
   ],
   "source": [
    "phone_book"
   ]
  },
  {
   "cell_type": "code",
   "execution_count": 33,
   "id": "49e6d3b4-e1a8-43dd-82c4-e39ca2069ce7",
   "metadata": {},
   "outputs": [
    {
     "data": {
      "text/plain": [
       "dict_keys(['John Smith', 'Jill Johnston', 'Sam Michaels', 'Mark Twain'])"
      ]
     },
     "execution_count": 33,
     "metadata": {},
     "output_type": "execute_result"
    }
   ],
   "source": [
    "phone_book.keys()    "
   ]
  },
  {
   "cell_type": "code",
   "execution_count": 34,
   "id": "b758c33a-a1a2-4e17-b604-454e474084ef",
   "metadata": {},
   "outputs": [
    {
     "data": {
      "text/plain": [
       "dict_values(['(111) 222-3333', '(444) 555-6666', '(777) 888-9999', '(543) 123-9876'])"
      ]
     },
     "execution_count": 34,
     "metadata": {},
     "output_type": "execute_result"
    }
   ],
   "source": [
    "phone_book.values()"
   ]
  },
  {
   "cell_type": "code",
   "execution_count": 35,
   "id": "2953364c-829f-4048-9a58-2c75cbb7321b",
   "metadata": {},
   "outputs": [
    {
     "data": {
      "text/plain": [
       "dict_items([('John Smith', '(111) 222-3333'), ('Jill Johnston', '(444) 555-6666'), ('Sam Michaels', '(777) 888-9999'), ('Mark Twain', '(543) 123-9876')])"
      ]
     },
     "execution_count": 35,
     "metadata": {},
     "output_type": "execute_result"
    }
   ],
   "source": [
    "phone_book.items()"
   ]
  },
  {
   "cell_type": "markdown",
   "id": "088f90d0-5b5f-4ee8-be33-af3848bdcc11",
   "metadata": {},
   "source": [
    "All of the previous values are **iterable** so you'll often see them used in loops to iterate through the the content of a dictionary like ..."
   ]
  },
  {
   "cell_type": "code",
   "execution_count": 37,
   "id": "a519c042-2c5c-495c-9a76-479a2a54f12d",
   "metadata": {},
   "outputs": [
    {
     "name": "stdout",
     "output_type": "stream",
     "text": [
      "Name: John Smith \t Phone Number: (111) 222-3333\n",
      "Name: Jill Johnston \t Phone Number: (444) 555-6666\n",
      "Name: Sam Michaels \t Phone Number: (777) 888-9999\n",
      "Name: Mark Twain \t Phone Number: (543) 123-9876\n"
     ]
    }
   ],
   "source": [
    "for k, v in phone_book.items():\n",
    "    print(f\"Name: {k} \\t Phone Number: {v}\")"
   ]
  },
  {
   "cell_type": "markdown",
   "id": "2cf0ca40-6955-4b80-9d33-71a0a5e51c44",
   "metadata": {},
   "source": [
    "### More collections"
   ]
  },
  {
   "cell_type": "markdown",
   "id": "18111f6e-1d3c-43e8-b56d-e50f8c355ce2",
   "metadata": {},
   "source": [
    "There are a few other useful built-in data structures, one which you'll use frequently (strings) and another which you'll use perhaps less frequently (`set`) but which\n",
    "can be very useful in certain situations:\n",
    "\n",
    "- strings or `str`: an ordered sequence of characters, where items **CAN NOT** be changed in place\n",
    "- `set`: an un-ordererd colletion of values, where duplicates are NOT allowed, optimized for \"membership\" and set operations\n",
    "\n",
    "We'll get to strings in a different module as there is alot you can do with strings, but sets are pretty easy to cover the basics here"
   ]
  },
  {
   "cell_type": "code",
   "execution_count": 30,
   "id": "c73c2654-37e6-4975-91d7-a84be8858f75",
   "metadata": {},
   "outputs": [
    {
     "data": {
      "text/plain": [
       "False"
      ]
     },
     "execution_count": 30,
     "metadata": {},
     "output_type": "execute_result"
    }
   ],
   "source": [
    "simple_set = set((1.23, 3.45, 6.78))  # NOTE the set constructor requires an iterable,  you could also use { }\n",
    "3.14 in simple_set"
   ]
  },
  {
   "cell_type": "code",
   "execution_count": 31,
   "id": "78f2928e-8c17-4e9b-8f97-1f4f79586183",
   "metadata": {},
   "outputs": [
    {
     "data": {
      "text/plain": [
       "True"
      ]
     },
     "execution_count": 31,
     "metadata": {},
     "output_type": "execute_result"
    }
   ],
   "source": [
    "1.23 in simple_set"
   ]
  },
  {
   "cell_type": "code",
   "execution_count": 39,
   "id": "461b162e-ac24-488e-9af6-65744b10e9bc",
   "metadata": {},
   "outputs": [],
   "source": [
    "# Sets can store heterogeneous content \n",
    "simple_set = {1, '2', False}               # NOTE: this is not a dict as there is no key value pairing"
   ]
  },
  {
   "cell_type": "code",
   "execution_count": 40,
   "id": "4501fa13-28da-41da-97cf-a9850a7dfbd2",
   "metadata": {},
   "outputs": [
    {
     "data": {
      "text/plain": [
       "True"
      ]
     },
     "execution_count": 40,
     "metadata": {},
     "output_type": "execute_result"
    }
   ],
   "source": [
    "False in simple_set "
   ]
  },
  {
   "cell_type": "markdown",
   "id": "bc8152d4-84bd-43f0-9ae9-451a49857cd2",
   "metadata": {},
   "source": [
    "Sets also have some interesting operations that can be useful, you can get the union (|) , intersection (&) and exclusive or (^) between two sets"
   ]
  },
  {
   "cell_type": "code",
   "execution_count": 41,
   "id": "5da88988-2f76-4e24-ae55-714cdb881f2f",
   "metadata": {},
   "outputs": [],
   "source": [
    "seta = {1, 2, 3, 4, 5}\n",
    "setb = {3, 4, 5, 6, 7, 8, 9}"
   ]
  },
  {
   "cell_type": "code",
   "execution_count": 42,
   "id": "757f44e4-2556-4da6-86bc-2e3de22364f4",
   "metadata": {},
   "outputs": [
    {
     "data": {
      "text/plain": [
       "{3, 4, 5}"
      ]
     },
     "execution_count": 42,
     "metadata": {},
     "output_type": "execute_result"
    }
   ],
   "source": [
    "seta & setb   # intersection, what is in both sets"
   ]
  },
  {
   "cell_type": "code",
   "execution_count": 43,
   "id": "8cfa24de-3ce3-4cff-9ec6-596f6bfd2946",
   "metadata": {},
   "outputs": [
    {
     "data": {
      "text/plain": [
       "{1, 2, 3, 4, 5, 6, 7, 8, 9}"
      ]
     },
     "execution_count": 43,
     "metadata": {},
     "output_type": "execute_result"
    }
   ],
   "source": [
    "seta | setb   # union, the combination of both sets, note no duplicates"
   ]
  },
  {
   "cell_type": "code",
   "execution_count": 44,
   "id": "676b2e3e-c817-41e8-8934-120a7c4f199a",
   "metadata": {},
   "outputs": [
    {
     "data": {
      "text/plain": [
       "{1, 2, 6, 7, 8, 9}"
      ]
     },
     "execution_count": 44,
     "metadata": {},
     "output_type": "execute_result"
    }
   ],
   "source": [
    "seta ^ setb   # exclusive or, what is not in both sets, "
   ]
  },
  {
   "cell_type": "code",
   "execution_count": 47,
   "id": "c040cc7c-88cb-49e8-99c0-f0fdecf4ef11",
   "metadata": {},
   "outputs": [
    {
     "data": {
      "text/plain": [
       "{1, 2}"
      ]
     },
     "execution_count": 47,
     "metadata": {},
     "output_type": "execute_result"
    }
   ],
   "source": [
    "seta - setb   # you can also take the difference between sets"
   ]
  },
  {
   "cell_type": "code",
   "execution_count": 48,
   "id": "74d246f8-c773-41ff-bc27-4d307e6f1e33",
   "metadata": {},
   "outputs": [
    {
     "data": {
      "text/plain": [
       "{6, 7, 8, 9}"
      ]
     },
     "execution_count": 48,
     "metadata": {},
     "output_type": "execute_result"
    }
   ],
   "source": [
    "setb - seta"
   ]
  },
  {
   "cell_type": "code",
   "execution_count": null,
   "id": "0543f481-f418-46b4-8c04-55c48ee55bb8",
   "metadata": {},
   "outputs": [],
   "source": []
  }
 ],
 "metadata": {
  "kernelspec": {
   "display_name": "Python 3 (ipykernel)",
   "language": "python",
   "name": "python3"
  },
  "language_info": {
   "codemirror_mode": {
    "name": "ipython",
    "version": 3
   },
   "file_extension": ".py",
   "mimetype": "text/x-python",
   "name": "python",
   "nbconvert_exporter": "python",
   "pygments_lexer": "ipython3",
   "version": "3.12.10"
  }
 },
 "nbformat": 4,
 "nbformat_minor": 5
}
