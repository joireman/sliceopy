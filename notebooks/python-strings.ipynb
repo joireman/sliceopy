{
 "cells": [
  {
   "cell_type": "markdown",
   "id": "9a8a2fa9-ca22-45f6-98c4-a20969792324",
   "metadata": {},
   "source": [
    "## Strings\n",
    "\n",
    "Strings or `str` in Python are an ordered sequence of characters, where items **CAN NOT** be changed in place; strings are **immutable**.   Strings can be indexed to get a value (or values) from the string, similar to a `list` or `tuple` and using the same indexing (`[ ]`) syntax but like a `tuple` you cannot assign new values using the indexing syntax.\n",
    "\n",
    "NOTE: I'll use string when referring to them but in Python they are referred to as `str`  \n"
   ]
  },
  {
   "cell_type": "code",
   "execution_count": 1,
   "id": "461b162e-ac24-488e-9af6-65744b10e9bc",
   "metadata": {},
   "outputs": [],
   "source": [
    "phrase1 = \"A basic string\"             # You can use a pair double quotes \" \"\n",
    "phrase2 = 'Who let the dogs out?'      # or a pair single quotes ' ' to define a string"
   ]
  },
  {
   "cell_type": "code",
   "execution_count": 52,
   "id": "541238ac-3119-4529-abaa-db3887521834",
   "metadata": {},
   "outputs": [],
   "source": [
    "## You can define a multi-line string using triple double quotes (or triple single quotes)\n",
    "multiline_str = \"\"\"This is a multiline                \n",
    "string which.  Strings can have escape \n",
    "characters \\t embedded in them too.\"\"\""
   ]
  },
  {
   "cell_type": "code",
   "execution_count": 53,
   "id": "70855955-db01-47ec-81c5-7fed045154dc",
   "metadata": {},
   "outputs": [
    {
     "data": {
      "text/plain": [
       "'This is a multiline                \\nstring which.  Strings can have escape \\ncharacters \\t embedded in them too.'"
      ]
     },
     "execution_count": 53,
     "metadata": {},
     "output_type": "execute_result"
    }
   ],
   "source": [
    "multiline_str    # the varialbe shows the escaped characters"
   ]
  },
  {
   "cell_type": "code",
   "execution_count": 54,
   "id": "a6aba9f2-c033-45f6-b224-ef47f375182c",
   "metadata": {},
   "outputs": [
    {
     "name": "stdout",
     "output_type": "stream",
     "text": [
      "This is a multiline                \n",
      "string which.  Strings can have escape \n",
      "characters \t embedded in them too.\n"
     ]
    }
   ],
   "source": [
    "print(multiline_str)   # printing the the variable interprets those characters"
   ]
  },
  {
   "cell_type": "code",
   "execution_count": 55,
   "id": "f6acd902-1c64-4ee4-ac05-463b17f952f1",
   "metadata": {},
   "outputs": [
    {
     "name": "stdout",
     "output_type": "stream",
     "text": [
      "A\n",
      "asic\n",
      "c string\n"
     ]
    }
   ],
   "source": [
    "# YOu can index strings just like any other sequece\n",
    "print(phrase1[0])\n",
    "print(phrase1[3:7])\n",
    "print(phrase1[6:])"
   ]
  },
  {
   "cell_type": "code",
   "execution_count": 56,
   "id": "f7cf5a18-0815-47b2-8034-93dc5e119c86",
   "metadata": {},
   "outputs": [
    {
     "data": {
      "text/plain": [
       "'gnirts cisab A'"
      ]
     },
     "execution_count": 56,
     "metadata": {},
     "output_type": "execute_result"
    }
   ],
   "source": [
    "# Reverse a string - no problem\n",
    "phrase1[::-1]"
   ]
  },
  {
   "cell_type": "markdown",
   "id": "694fedee-da14-46f4-9cff-655ca1ca9c63",
   "metadata": {},
   "source": [
    "## String Methods"
   ]
  },
  {
   "cell_type": "code",
   "execution_count": 57,
   "id": "4608c7f0-adbe-4734-8240-b1239a11ee32",
   "metadata": {},
   "outputs": [],
   "source": [
    "phrase3 = \"Hello pythOn stRings\""
   ]
  },
  {
   "cell_type": "code",
   "execution_count": 58,
   "id": "72e0ea76-deb8-49a9-9a71-6fbcb0dc2fcc",
   "metadata": {},
   "outputs": [
    {
     "name": "stdout",
     "output_type": "stream",
     "text": [
      "Uppercase: HELLO PYTHON STRINGS\n",
      "Lowercase: hello python strings\n"
     ]
    }
   ],
   "source": [
    "print(f\"Uppercase: {phrase3.upper()}\")\n",
    "print(f\"Lowercase: {phrase3.lower()}\")"
   ]
  },
  {
   "cell_type": "code",
   "execution_count": 59,
   "id": "a5e51e01-7b15-4a9b-bea5-7e43fe316c4e",
   "metadata": {},
   "outputs": [
    {
     "data": {
      "text/plain": [
       "'Hello python strings'"
      ]
     },
     "execution_count": 59,
     "metadata": {},
     "output_type": "execute_result"
    }
   ],
   "source": [
    "phrase3.capitalize()"
   ]
  },
  {
   "cell_type": "code",
   "execution_count": 60,
   "id": "28bf353b-d311-49ab-a1e3-49a389794dac",
   "metadata": {},
   "outputs": [
    {
     "data": {
      "text/plain": [
       "'Hello pythOn stRings'"
      ]
     },
     "execution_count": 60,
     "metadata": {},
     "output_type": "execute_result"
    }
   ],
   "source": [
    "phrase3    # NOTE: the methods do not change the string"
   ]
  },
  {
   "cell_type": "code",
   "execution_count": 61,
   "id": "edadd758-3d6d-425f-8684-8871f42e13b7",
   "metadata": {},
   "outputs": [],
   "source": [
    "phrase4 = phrase3.title()  "
   ]
  },
  {
   "cell_type": "code",
   "execution_count": 62,
   "id": "b5b1beb0-f0f6-40c7-a91f-9b7e258105b1",
   "metadata": {},
   "outputs": [
    {
     "data": {
      "text/plain": [
       "'Hello Python Strings'"
      ]
     },
     "execution_count": 62,
     "metadata": {},
     "output_type": "execute_result"
    }
   ],
   "source": [
    "phrase4"
   ]
  },
  {
   "cell_type": "markdown",
   "id": "264549b1-ddaa-4ddf-8b88-8b43e4ec0eaa",
   "metadata": {},
   "source": [
    "String methods do not modify the original string, they return a new string which you can assign to a new variable.  Why?  Because **STRINGS ARE IMMUTABLE**"
   ]
  },
  {
   "cell_type": "markdown",
   "id": "2c9b4d7f-6e48-480d-a068-198ee715f308",
   "metadata": {},
   "source": [
    "### Boolean Methods"
   ]
  },
  {
   "cell_type": "code",
   "execution_count": 63,
   "id": "bc3d9d17-311e-4d54-826f-d3b1d7cce0c8",
   "metadata": {},
   "outputs": [
    {
     "name": "stdout",
     "output_type": "stream",
     "text": [
      "'Hello'.isalpha(): True\n",
      "'Hello'.isalnum(): True\n",
      "'Hello'.isnumeric(): False\n",
      "'1.0'.isalpha(): True\n",
      "'1.0'.isalnum(): True\n",
      "'1.0'.isnumeric(): False\n",
      "'1.0'.isnumeric(): False\n"
     ]
    }
   ],
   "source": [
    "greeting = \"Hello\"\n",
    "value = \"1.0\"\n",
    "\n",
    "print(f\"'{greeting}'.isalpha(): {greeting.isalpha()}\")\n",
    "print(f\"'{greeting}'.isalnum(): {greeting.isalnum()}\")\n",
    "print(f\"'{greeting}'.isnumeric(): {greeting.isnumeric()}\")\n",
    "print(f\"'{value}'.isalpha(): {greeting.isalpha()}\")\n",
    "print(f\"'{value}'.isalnum(): {greeting.isalnum()}\")\n",
    "print(f\"'{value}'.isnumeric(): {greeting.isnumeric()}\")\n",
    "print(f\"'{value}'.isnumeric(): {greeting.isdecimal()}\")\n"
   ]
  },
  {
   "cell_type": "code",
   "execution_count": 64,
   "id": "f217dadd-a146-494b-8eb8-7a27c1e22dbe",
   "metadata": {},
   "outputs": [
    {
     "data": {
      "text/plain": [
       "True"
      ]
     },
     "execution_count": 64,
     "metadata": {},
     "output_type": "execute_result"
    }
   ],
   "source": [
    "'1'.isdecimal()"
   ]
  },
  {
   "cell_type": "code",
   "execution_count": 65,
   "id": "8fa40729-2988-4704-bb1c-0b90c3e7448e",
   "metadata": {},
   "outputs": [
    {
     "data": {
      "text/plain": [
       "True"
      ]
     },
     "execution_count": 65,
     "metadata": {},
     "output_type": "execute_result"
    }
   ],
   "source": [
    "'var_name_1'.isidentifier()        # is this a valid variable name"
   ]
  },
  {
   "cell_type": "markdown",
   "id": "2ee88c2b-1945-42c8-acce-66dad427f90d",
   "metadata": {},
   "source": [
    "### Spliting up Strings"
   ]
  },
  {
   "cell_type": "code",
   "execution_count": 66,
   "id": "b9306b46-2388-4701-bc92-474c48dc2bca",
   "metadata": {},
   "outputs": [
    {
     "data": {
      "text/plain": [
       "'This is a multiline                \\nstring which.  Strings can have escape \\ncharacters \\t embedded in them too.'"
      ]
     },
     "execution_count": 66,
     "metadata": {},
     "output_type": "execute_result"
    }
   ],
   "source": [
    "multiline_str"
   ]
  },
  {
   "cell_type": "code",
   "execution_count": 67,
   "id": "21e5c497-dd78-4532-9000-508eadd1cf60",
   "metadata": {},
   "outputs": [
    {
     "data": {
      "text/plain": [
       "['This',\n",
       " 'is',\n",
       " 'a',\n",
       " 'multiline',\n",
       " 'string',\n",
       " 'which.',\n",
       " 'Strings',\n",
       " 'can',\n",
       " 'have',\n",
       " 'escape',\n",
       " 'characters',\n",
       " 'embedded',\n",
       " 'in',\n",
       " 'them',\n",
       " 'too.']"
      ]
     },
     "execution_count": 67,
     "metadata": {},
     "output_type": "execute_result"
    }
   ],
   "source": [
    "multiline_str.split()    # default split on whitespace, you get a list returned (string is still intact)"
   ]
  },
  {
   "cell_type": "code",
   "execution_count": 69,
   "id": "2dc86cf6-eab7-4557-b313-beac8384731c",
   "metadata": {},
   "outputs": [
    {
     "data": {
      "text/plain": [
       "['This is a multiline                ',\n",
       " 'string which.  Strings can have escape ',\n",
       " 'characters \\t embedded in them too.']"
      ]
     },
     "execution_count": 69,
     "metadata": {},
     "output_type": "execute_result"
    }
   ],
   "source": [
    "lines = multiline_str.split('\\n')        # NOTE the extra spaces in the first line\n",
    "lines"
   ]
  },
  {
   "cell_type": "code",
   "execution_count": 73,
   "id": "52daa847-7723-412c-891e-1080c99abd1e",
   "metadata": {},
   "outputs": [
    {
     "name": "stdout",
     "output_type": "stream",
     "text": [
      "This is a multiline                : length = 35\n"
     ]
    }
   ],
   "source": [
    "print(f\"{lines[0]}: length = {len(lines[0])}\")"
   ]
  },
  {
   "cell_type": "code",
   "execution_count": 75,
   "id": "10fef80f-bb34-4513-8760-456b7ac80221",
   "metadata": {},
   "outputs": [
    {
     "name": "stdout",
     "output_type": "stream",
     "text": [
      "This is a multiline: length = 19\n"
     ]
    }
   ],
   "source": [
    "line0 = lines[0].strip()                          # strip off extra whitespace (lstrip() and rstrip() available too)\n",
    "print(f\"{line0}: length = {len(line0)}\")"
   ]
  },
  {
   "cell_type": "code",
   "execution_count": 76,
   "id": "15e45e7a-2aa2-4050-aadb-de6c923e6190",
   "metadata": {},
   "outputs": [
    {
     "data": {
      "text/plain": [
       "4"
      ]
     },
     "execution_count": 76,
     "metadata": {},
     "output_type": "execute_result"
    }
   ],
   "source": [
    "line0.count('i')"
   ]
  },
  {
   "cell_type": "code",
   "execution_count": 77,
   "id": "14b64c64-b34a-46ca-8cc5-39d24fa7ff8b",
   "metadata": {},
   "outputs": [
    {
     "data": {
      "text/plain": [
       "'this is a multiline'"
      ]
     },
     "execution_count": 77,
     "metadata": {},
     "output_type": "execute_result"
    }
   ],
   "source": [
    "line0.casefold()"
   ]
  },
  {
   "cell_type": "code",
   "execution_count": 87,
   "id": "dcac2aa5-8792-4c06-9e47-72916802761c",
   "metadata": {},
   "outputs": [
    {
     "data": {
      "text/plain": [
       "True"
      ]
     },
     "execution_count": 87,
     "metadata": {},
     "output_type": "execute_result"
    }
   ],
   "source": [
    "# Membership \n",
    "'have' in multiline_str"
   ]
  },
  {
   "cell_type": "markdown",
   "id": "88bb62a9-40c9-40ac-904d-5c9d9220bde3",
   "metadata": {},
   "source": [
    "## Searching for a substring\n"
   ]
  },
  {
   "cell_type": "code",
   "execution_count": 78,
   "id": "86a4e528-bea3-4120-8446-4b467dadd91f",
   "metadata": {},
   "outputs": [
    {
     "data": {
      "text/plain": [
       "10"
      ]
     },
     "execution_count": 78,
     "metadata": {},
     "output_type": "execute_result"
    }
   ],
   "source": [
    "line0.find('m')     # return index of m"
   ]
  },
  {
   "cell_type": "code",
   "execution_count": 80,
   "id": "fa108208-8923-487d-9dda-7e32f2477781",
   "metadata": {},
   "outputs": [
    {
     "data": {
      "text/plain": [
       "2"
      ]
     },
     "execution_count": 80,
     "metadata": {},
     "output_type": "execute_result"
    }
   ],
   "source": [
    "line0.find('i')     # return index of first i"
   ]
  },
  {
   "cell_type": "code",
   "execution_count": 81,
   "id": "44d9ad9a-e65f-4e0b-a8f1-0e5a7f3f9a5f",
   "metadata": {},
   "outputs": [
    {
     "data": {
      "text/plain": [
       "5"
      ]
     },
     "execution_count": 81,
     "metadata": {},
     "output_type": "execute_result"
    }
   ],
   "source": [
    "line0.find('i', 3)"
   ]
  },
  {
   "cell_type": "code",
   "execution_count": 82,
   "id": "cfee2add-529a-408a-a4f6-643dde634de2",
   "metadata": {},
   "outputs": [
    {
     "data": {
      "text/plain": [
       "14"
      ]
     },
     "execution_count": 82,
     "metadata": {},
     "output_type": "execute_result"
    }
   ],
   "source": [
    "line0.find('i', 10)"
   ]
  },
  {
   "cell_type": "code",
   "execution_count": 83,
   "id": "7eefa346-75ab-404e-9252-5416e81e6070",
   "metadata": {},
   "outputs": [
    {
     "data": {
      "text/plain": [
       "'This is a multiline                \\nstring which.  Strings can have escape \\ncharacters \\t embedded in them too.'"
      ]
     },
     "execution_count": 83,
     "metadata": {},
     "output_type": "execute_result"
    }
   ],
   "source": [
    "multiline_str"
   ]
  },
  {
   "cell_type": "code",
   "execution_count": 84,
   "id": "b965b12a-cf89-4e81-a8a0-6dccc7cf30cd",
   "metadata": {},
   "outputs": [
    {
     "data": {
      "text/plain": [
       "True"
      ]
     },
     "execution_count": 84,
     "metadata": {},
     "output_type": "execute_result"
    }
   ],
   "source": [
    "'have' in multiline_str"
   ]
  },
  {
   "cell_type": "code",
   "execution_count": 88,
   "id": "3feacf13-9d97-4890-8be6-a5a32f5aef26",
   "metadata": {},
   "outputs": [
    {
     "data": {
      "text/plain": [
       "63"
      ]
     },
     "execution_count": 88,
     "metadata": {},
     "output_type": "execute_result"
    }
   ],
   "source": [
    "multiline_str.find('have')"
   ]
  },
  {
   "cell_type": "markdown",
   "id": "e98d5e80-7d53-4a25-b40d-88690e831672",
   "metadata": {},
   "source": [
    "## Formating Output\n",
    "\n",
    "Only partially related to strings, more related to getting the outupt that you want.  The current accepted way to print out strings with variables is to use **f-strings**.  There are other older ways that still work which involve either the `format()` method of a string or older methods involving a string followed by a `%` sign (you'll see this in older Python code):\n",
    "\n",
    "```python\n",
    ">>> greeting = \"Greetings and Felicitations\"\n",
    ">>> year = 2024\n",
    ">>> print(\"%s %d!!\" % greeting, year)\n",
    "Greetings and Felicitations 2024!!\n",
    "```\n",
    "\n",
    "**Resources**\n",
    "- [A Guide to Modern Python String Formatting Tools](https://realpython.com/python-formatted-output/)"
   ]
  },
  {
   "cell_type": "markdown",
   "id": "73698b43-82a8-4b54-8396-297cd493f82f",
   "metadata": {},
   "source": [
    "An f-string is simply a string prepended with the letter `f` (or `F`).  This enables the use of `{}` inside the string to interpolate Python variables by name or run small snippets of Python code.   An f-string obeys all the rules around strings, it can be enclosed with single or double quotes, and triply quoted strings are also allowed."
   ]
  },
  {
   "cell_type": "code",
   "execution_count": 89,
   "id": "58fd5809-8ffb-479c-a308-a2a4cec3472d",
   "metadata": {},
   "outputs": [],
   "source": [
    "example_fstring = f\"This is a basic (and boring) f-string\""
   ]
  },
  {
   "cell_type": "code",
   "execution_count": 90,
   "id": "3be537ab-718f-4033-a3b5-1448d90d8eb7",
   "metadata": {},
   "outputs": [
    {
     "name": "stdout",
     "output_type": "stream",
     "text": [
      "Greetings and Felicitations to year 2024!!\n"
     ]
    }
   ],
   "source": [
    "greeting = \"Greetings and Felicitations\"\n",
    "year = 2024\n",
    "print(f\"{greeting} to year {year}!!\")   # within each { } block in an f-string, we have a small Python context"
   ]
  },
  {
   "cell_type": "code",
   "execution_count": 91,
   "id": "7e5d9d72-b0a7-4e93-9564-f3b0249635ac",
   "metadata": {},
   "outputs": [
    {
     "name": "stdout",
     "output_type": "stream",
     "text": [
      "The value of 7 * 3 = 21\n"
     ]
    }
   ],
   "source": [
    "print(f\"The value of 7 * 3 = {7*3}\")    # within the { } we can execute any valid Python code"
   ]
  },
  {
   "cell_type": "code",
   "execution_count": 96,
   "id": "a341405a-4c0c-4410-9b97-14f8459cb789",
   "metadata": {},
   "outputs": [
    {
     "name": "stdout",
     "output_type": "stream",
     "text": [
      "The raw value: 1234657.8912734\n",
      "Insert commas: 1,234,657.89\n",
      "Exponential notation: 1.23466e+06\n",
      "Alignment:                   1.234658e+06\n"
     ]
    }
   ],
   "source": [
    "value = 1234657.8912734\n",
    "print(f\"The raw value: {value}\")\n",
    "print(f\"Insert commas: {value:,.2f}\")\n",
    "print(f\"Exponential notation: {value:g}\")\n",
    "print(f\"Alignment: {value:30e}\")"
   ]
  },
  {
   "cell_type": "code",
   "execution_count": 107,
   "id": "6bd0a421-3d68-4c94-aa41-39eafd256582",
   "metadata": {},
   "outputs": [
    {
     "name": "stdout",
     "output_type": "stream",
     "text": [
      "Hello                         \n",
      "                         Hello\n",
      "            Hello             \n"
     ]
    }
   ],
   "source": [
    "hail = \"Hello\"\n",
    "print(f\"{hail:<30s}\")   # lef-align\n",
    "print(f\"{hail:>30s}\")   # right-align\n",
    "print(f\"{hail:^30s}\")   # centered"
   ]
  },
  {
   "cell_type": "code",
   "execution_count": 110,
   "id": "34971858-ea1f-47f7-b6cc-4967c7445524",
   "metadata": {},
   "outputs": [
    {
     "name": "stdout",
     "output_type": "stream",
     "text": [
      "10000, 0b10000\n",
      "20, 0o20\n",
      "10, 0x10\n"
     ]
    }
   ],
   "source": [
    "value = 16\n",
    "print(f\"{value:b}, {value:#b}\")\n",
    "print(f\"{value:o}, {value:#o}\")\n",
    "print(f\"{value:x}, {value:#x}\")"
   ]
  },
  {
   "cell_type": "code",
   "execution_count": 120,
   "id": "566069b7-a865-470c-b04e-46d1bf571bbb",
   "metadata": {},
   "outputs": [
    {
     "name": "stdout",
     "output_type": "stream",
     "text": [
      "456\n",
      "000456\n"
     ]
    }
   ],
   "source": [
    "## Leading Zeros\n",
    "a = 456\n",
    "print(f\"{a}\")\n",
    "print(f\"{a:06d}\")"
   ]
  },
  {
   "cell_type": "code",
   "execution_count": 121,
   "id": "867747c4-8ffe-4a0c-a9e0-2b24bfa20a45",
   "metadata": {},
   "outputs": [
    {
     "name": "stdout",
     "output_type": "stream",
     "text": [
      "Insert underscores instead of commas: 1_234_657.89\n"
     ]
    }
   ],
   "source": [
    "# Underscores\n",
    "value = 1234657.8912734\n",
    "print(f\"Insert underscores instead of commas: {value:_.2f}\")\n"
   ]
  },
  {
   "attachments": {},
   "cell_type": "markdown",
   "id": "0c8582cd-7b61-4788-a320-be3cf0f12275",
   "metadata": {},
   "source": [
    "## Precision\n"
   ]
  },
  {
   "cell_type": "code",
   "execution_count": 132,
   "id": "fc8bd5ce-ba53-4b59-948e-5db3ef20945f",
   "metadata": {},
   "outputs": [
    {
     "name": "stdout",
     "output_type": "stream",
     "text": [
      "Print to desired precision: 3.14\n",
      "Print to desired width and pecision:   3.1416\n",
      "Print as a percentage: 20.0%\n"
     ]
    }
   ],
   "source": [
    "pi = 3.141569\n",
    "print(f\"Print to desired precision: {pi:.2f}\")\n",
    "print(f\"Print to desired width and pecision: {pi:8.4f}\")\n",
    "print(f\"Print as a percentage: {0.20:.1%}\")\n"
   ]
  },
  {
   "cell_type": "code",
   "execution_count": null,
   "id": "80365c74-0101-4892-9bbc-69bbccf6cbd9",
   "metadata": {},
   "outputs": [],
   "source": []
  }
 ],
 "metadata": {
  "kernelspec": {
   "display_name": "Python 3 (ipykernel)",
   "language": "python",
   "name": "python3"
  },
  "language_info": {
   "codemirror_mode": {
    "name": "ipython",
    "version": 3
   },
   "file_extension": ".py",
   "mimetype": "text/x-python",
   "name": "python",
   "nbconvert_exporter": "python",
   "pygments_lexer": "ipython3",
   "version": "3.12.3"
  }
 },
 "nbformat": 4,
 "nbformat_minor": 5
}
